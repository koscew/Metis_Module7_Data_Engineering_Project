{
 "cells": [
  {
   "cell_type": "code",
   "execution_count": null,
   "metadata": {
    "colab": {
     "base_uri": "https://localhost:8080/"
    },
    "executionInfo": {
     "elapsed": 19646,
     "status": "ok",
     "timestamp": 1639169836648,
     "user": {
      "displayName": "Chien Yuan Chang",
      "photoUrl": "https://lh3.googleusercontent.com/a-/AOh14Gh-ZoTW8dc2VTtzRDYgaNQ1fpjQNTp7RWhLtJPm=s64",
      "userId": "11770959240224415572"
     },
     "user_tz": 480
    },
    "id": "F4uXrroyeHJw",
    "outputId": "2d3b3513-ac7b-4b9c-d8b2-4a1e0b38b0b6"
   },
   "outputs": [
    {
     "name": "stdout",
     "output_type": "stream",
     "text": [
      "Mounted at /content/drive\n"
     ]
    }
   ],
   "source": [
    "from google.colab import drive\n",
    "drive.mount('/content/drive')"
   ]
  },
  {
   "cell_type": "code",
   "execution_count": 78,
   "metadata": {
    "executionInfo": {
     "elapsed": 196,
     "status": "ok",
     "timestamp": 1639540448316,
     "user": {
      "displayName": "Chien Yuan Chang",
      "photoUrl": "https://lh3.googleusercontent.com/a-/AOh14Gh-ZoTW8dc2VTtzRDYgaNQ1fpjQNTp7RWhLtJPm=s64",
      "userId": "11770959240224415572"
     },
     "user_tz": 480
    },
    "id": "vTLzEHKyeNXx"
   },
   "outputs": [],
   "source": [
    "reset -fs"
   ]
  },
  {
   "cell_type": "code",
   "execution_count": 1,
   "metadata": {
    "colab": {
     "base_uri": "https://localhost:8080/"
    },
    "executionInfo": {
     "elapsed": 1121,
     "status": "ok",
     "timestamp": 1639632264672,
     "user": {
      "displayName": "Chien Yuan Chang",
      "photoUrl": "https://lh3.googleusercontent.com/a-/AOh14Gh-ZoTW8dc2VTtzRDYgaNQ1fpjQNTp7RWhLtJPm=s64",
      "userId": "11770959240224415572"
     },
     "user_tz": 480
    },
    "id": "AFf600LReN4o",
    "outputId": "20d1cb89-a83b-4ed0-e6bf-fbfeb417e78e"
   },
   "outputs": [
    {
     "name": "stdout",
     "output_type": "stream",
     "text": [
      "\u001b[31mERROR: Operation cancelled by user\u001b[0m\n"
     ]
    }
   ],
   "source": [
    "!/usr/bin/python3 -m pip install \"pymongo[srv]\""
   ]
  },
  {
   "cell_type": "code",
   "execution_count": 2,
   "metadata": {
    "executionInfo": {
     "elapsed": 32,
     "status": "ok",
     "timestamp": 1639495787407,
     "user": {
      "displayName": "Chien Yuan Chang",
      "photoUrl": "https://lh3.googleusercontent.com/a-/AOh14Gh-ZoTW8dc2VTtzRDYgaNQ1fpjQNTp7RWhLtJPm=s64",
      "userId": "11770959240224415572"
     },
     "user_tz": 480
    },
    "id": "IDlwfrBjeSYJ"
   },
   "outputs": [],
   "source": [
    "exit()"
   ]
  },
  {
   "cell_type": "code",
   "execution_count": 1,
   "metadata": {
    "colab": {
     "base_uri": "https://localhost:8080/"
    },
    "executionInfo": {
     "elapsed": 3520,
     "status": "ok",
     "timestamp": 1639668466309,
     "user": {
      "displayName": "Chien Yuan Chang",
      "photoUrl": "https://lh3.googleusercontent.com/a-/AOh14Gh-ZoTW8dc2VTtzRDYgaNQ1fpjQNTp7RWhLtJPm=s64",
      "userId": "11770959240224415572"
     },
     "user_tz": 480
    },
    "id": "j-PdaLUcUwM3",
    "outputId": "b69458f5-cd9a-4624-ab70-2c55aaab201e"
   },
   "outputs": [
    {
     "name": "stdout",
     "output_type": "stream",
     "text": [
      "Collecting isodate\n",
      "  Downloading isodate-0.6.1-py2.py3-none-any.whl (41 kB)\n",
      "\u001b[?25l\r",
      "\u001b[K     |███████▉                        | 10 kB 28.0 MB/s eta 0:00:01\r",
      "\u001b[K     |███████████████▊                | 20 kB 34.9 MB/s eta 0:00:01\r",
      "\u001b[K     |███████████████████████▋        | 30 kB 24.5 MB/s eta 0:00:01\r",
      "\u001b[K     |███████████████████████████████▍| 40 kB 19.3 MB/s eta 0:00:01\r",
      "\u001b[K     |████████████████████████████████| 41 kB 547 kB/s \n",
      "\u001b[?25hRequirement already satisfied: six in /usr/local/lib/python3.7/dist-packages (from isodate) (1.15.0)\n",
      "Installing collected packages: isodate\n",
      "Successfully installed isodate-0.6.1\n"
     ]
    }
   ],
   "source": [
    "! pip install isodate"
   ]
  },
  {
   "cell_type": "code",
   "execution_count": 2,
   "metadata": {
    "colab": {
     "base_uri": "https://localhost:8080/"
    },
    "executionInfo": {
     "elapsed": 3932,
     "status": "ok",
     "timestamp": 1639668470228,
     "user": {
      "displayName": "Chien Yuan Chang",
      "photoUrl": "https://lh3.googleusercontent.com/a-/AOh14Gh-ZoTW8dc2VTtzRDYgaNQ1fpjQNTp7RWhLtJPm=s64",
      "userId": "11770959240224415572"
     },
     "user_tz": 480
    },
    "id": "K46iw-rQYf-s",
    "outputId": "44609d3a-e03e-41d7-dbe8-4e955f4d7676"
   },
   "outputs": [
    {
     "name": "stdout",
     "output_type": "stream",
     "text": [
      "Collecting spacy-langdetect\n",
      "  Downloading spacy_langdetect-0.1.2-py3-none-any.whl (5.0 kB)\n",
      "Requirement already satisfied: pytest in /usr/local/lib/python3.7/dist-packages (from spacy-langdetect) (3.6.4)\n",
      "Collecting langdetect==1.0.7\n",
      "  Downloading langdetect-1.0.7.zip (998 kB)\n",
      "\u001b[K     |████████████████████████████████| 998 kB 8.1 MB/s \n",
      "\u001b[?25hRequirement already satisfied: six in /usr/local/lib/python3.7/dist-packages (from langdetect==1.0.7->spacy-langdetect) (1.15.0)\n",
      "Requirement already satisfied: py>=1.5.0 in /usr/local/lib/python3.7/dist-packages (from pytest->spacy-langdetect) (1.11.0)\n",
      "Requirement already satisfied: atomicwrites>=1.0 in /usr/local/lib/python3.7/dist-packages (from pytest->spacy-langdetect) (1.4.0)\n",
      "Requirement already satisfied: more-itertools>=4.0.0 in /usr/local/lib/python3.7/dist-packages (from pytest->spacy-langdetect) (8.12.0)\n",
      "Requirement already satisfied: attrs>=17.4.0 in /usr/local/lib/python3.7/dist-packages (from pytest->spacy-langdetect) (21.2.0)\n",
      "Requirement already satisfied: setuptools in /usr/local/lib/python3.7/dist-packages (from pytest->spacy-langdetect) (57.4.0)\n",
      "Requirement already satisfied: pluggy<0.8,>=0.5 in /usr/local/lib/python3.7/dist-packages (from pytest->spacy-langdetect) (0.7.1)\n",
      "Building wheels for collected packages: langdetect\n",
      "  Building wheel for langdetect (setup.py) ... \u001b[?25l\u001b[?25hdone\n",
      "  Created wheel for langdetect: filename=langdetect-1.0.7-py3-none-any.whl size=993430 sha256=4aa37da6111617d212141695ee0c3893990696960ef715e3a05256eab04f66ab\n",
      "  Stored in directory: /root/.cache/pip/wheels/89/79/3b/9885ae7f4308f73c514f96d8574d40d7d8173a27731b674013\n",
      "Successfully built langdetect\n",
      "Installing collected packages: langdetect, spacy-langdetect\n",
      "Successfully installed langdetect-1.0.7 spacy-langdetect-0.1.2\n"
     ]
    }
   ],
   "source": [
    "! pip install spacy-langdetect"
   ]
  },
  {
   "cell_type": "code",
   "execution_count": 3,
   "metadata": {
    "executionInfo": {
     "elapsed": 391,
     "status": "ok",
     "timestamp": 1639668477210,
     "user": {
      "displayName": "Chien Yuan Chang",
      "photoUrl": "https://lh3.googleusercontent.com/a-/AOh14Gh-ZoTW8dc2VTtzRDYgaNQ1fpjQNTp7RWhLtJPm=s64",
      "userId": "11770959240224415572"
     },
     "user_tz": 480
    },
    "id": "Z73Xsyyhd5HZ"
   },
   "outputs": [],
   "source": [
    "import json\n",
    "import numpy as np\n",
    "import matplotlib.pyplot as plt\n",
    "import seaborn as sns\n",
    "import pandas as pd\n",
    "from PIL import Image\n",
    "import pymongo\n",
    "from pymongo import MongoClient\n",
    "import isodate\n",
    "import datetime as dt\n",
    "import pickle"
   ]
  },
  {
   "cell_type": "code",
   "execution_count": 4,
   "metadata": {
    "executionInfo": {
     "elapsed": 390,
     "status": "ok",
     "timestamp": 1639668479292,
     "user": {
      "displayName": "Chien Yuan Chang",
      "photoUrl": "https://lh3.googleusercontent.com/a-/AOh14Gh-ZoTW8dc2VTtzRDYgaNQ1fpjQNTp7RWhLtJPm=s64",
      "userId": "11770959240224415572"
     },
     "user_tz": 480
    },
    "id": "IOKU4wQcteOF"
   },
   "outputs": [],
   "source": [
    "from sklearn.model_selection import train_test_split\n",
    "from sklearn.preprocessing import StandardScaler\n",
    "from sklearn.metrics import mean_absolute_error, mean_absolute_percentage_error"
   ]
  },
  {
   "cell_type": "code",
   "execution_count": 5,
   "metadata": {
    "executionInfo": {
     "elapsed": 2245,
     "status": "ok",
     "timestamp": 1639668482320,
     "user": {
      "displayName": "Chien Yuan Chang",
      "photoUrl": "https://lh3.googleusercontent.com/a-/AOh14Gh-ZoTW8dc2VTtzRDYgaNQ1fpjQNTp7RWhLtJPm=s64",
      "userId": "11770959240224415572"
     },
     "user_tz": 480
    },
    "id": "vppJtY6hYG2i"
   },
   "outputs": [],
   "source": [
    "import re\n",
    "import spacy\n",
    "from spacy.symbols import amod\n",
    "from spacy.language import Language\n",
    "from spacy_langdetect import LanguageDetector\n",
    "nlp = spacy.load('en_core_web_sm')\n",
    "nlp.add_pipe(LanguageDetector(), name='language_detector', last=True)"
   ]
  },
  {
   "cell_type": "code",
   "execution_count": 6,
   "metadata": {
    "executionInfo": {
     "elapsed": 1921,
     "status": "ok",
     "timestamp": 1639668484213,
     "user": {
      "displayName": "Chien Yuan Chang",
      "photoUrl": "https://lh3.googleusercontent.com/a-/AOh14Gh-ZoTW8dc2VTtzRDYgaNQ1fpjQNTp7RWhLtJPm=s64",
      "userId": "11770959240224415572"
     },
     "user_tz": 480
    },
    "id": "lovrnFevhAvQ"
   },
   "outputs": [],
   "source": [
    "import tensorflow as tf\n",
    "from tensorflow import keras\n",
    "from keras.layers import *\n",
    "from tensorflow.keras.applications import mobilenet_v2\n",
    "from tensorflow.keras.models import Model, Sequential\n",
    "from tensorflow.keras.preprocessing.text   import Tokenizer\n",
    "from tensorflow.keras.preprocessing        import sequence\n",
    "#from tensorflow.keras.optimizers           import SGD, RMSprop"
   ]
  },
  {
   "cell_type": "code",
   "execution_count": 7,
   "metadata": {
    "executionInfo": {
     "elapsed": 263,
     "status": "ok",
     "timestamp": 1639495816853,
     "user": {
      "displayName": "Chien Yuan Chang",
      "photoUrl": "https://lh3.googleusercontent.com/a-/AOh14Gh-ZoTW8dc2VTtzRDYgaNQ1fpjQNTp7RWhLtJPm=s64",
      "userId": "11770959240224415572"
     },
     "user_tz": 480
    },
    "id": "-N5VvfnCeHiC"
   },
   "outputs": [],
   "source": [
    "connection_string = \"*******************************************\"\n",
    "client = MongoClient(connection_string)"
   ]
  },
  {
   "cell_type": "code",
   "execution_count": 8,
   "metadata": {
    "colab": {
     "base_uri": "https://localhost:8080/"
    },
    "executionInfo": {
     "elapsed": 737,
     "status": "ok",
     "timestamp": 1639495817587,
     "user": {
      "displayName": "Chien Yuan Chang",
      "photoUrl": "https://lh3.googleusercontent.com/a-/AOh14Gh-ZoTW8dc2VTtzRDYgaNQ1fpjQNTp7RWhLtJPm=s64",
      "userId": "11770959240224415572"
     },
     "user_tz": 480
    },
    "id": "KHLNt9_xeMI5",
    "outputId": "088eca59-31a2-4d87-ac02-0fe2ed489054"
   },
   "outputs": [
    {
     "data": {
      "text/plain": [
       "['youtube', 'admin', 'local']"
      ]
     },
     "execution_count": 8,
     "metadata": {},
     "output_type": "execute_result"
    }
   ],
   "source": [
    "client.list_database_names()"
   ]
  },
  {
   "cell_type": "code",
   "execution_count": 9,
   "metadata": {
    "executionInfo": {
     "elapsed": 8,
     "status": "ok",
     "timestamp": 1639495817589,
     "user": {
      "displayName": "Chien Yuan Chang",
      "photoUrl": "https://lh3.googleusercontent.com/a-/AOh14Gh-ZoTW8dc2VTtzRDYgaNQ1fpjQNTp7RWhLtJPm=s64",
      "userId": "11770959240224415572"
     },
     "user_tz": 480
    },
    "id": "ss83e0aBem9r"
   },
   "outputs": [],
   "source": [
    "videos = client.youtube.videos\n",
    "channels = client.youtube.channels"
   ]
  },
  {
   "cell_type": "code",
   "execution_count": 10,
   "metadata": {
    "executionInfo": {
     "elapsed": 6618,
     "status": "ok",
     "timestamp": 1639495824199,
     "user": {
      "displayName": "Chien Yuan Chang",
      "photoUrl": "https://lh3.googleusercontent.com/a-/AOh14Gh-ZoTW8dc2VTtzRDYgaNQ1fpjQNTp7RWhLtJPm=s64",
      "userId": "11770959240224415572"
     },
     "user_tz": 480
    },
    "id": "lQZBfQLV8jsz"
   },
   "outputs": [],
   "source": [
    "video_mongo = list(videos.find({}, {'_id':0, 'id':1, 'timestamp': 1, \n",
    "                                    'snippet': {'publishedAt': 1, 'channelId':1, 'title': 1, 'description': 1, 'channelTitle': 1, 'tags': 1, 'categoryId': 1}, \n",
    "                                    'contentDetails': {'caption': 1, 'definition': 1, 'dimension': 1, 'duration': 1, 'projection': 1},\n",
    "                                    'statistics': {'viewCount': 1},\n",
    "                                    'status': {'embeddable': 1, 'license': 1, 'madeForKids': 1}}))"
   ]
  },
  {
   "cell_type": "code",
   "execution_count": 11,
   "metadata": {
    "executionInfo": {
     "elapsed": 12778,
     "status": "ok",
     "timestamp": 1639495836923,
     "user": {
      "displayName": "Chien Yuan Chang",
      "photoUrl": "https://lh3.googleusercontent.com/a-/AOh14Gh-ZoTW8dc2VTtzRDYgaNQ1fpjQNTp7RWhLtJPm=s64",
      "userId": "11770959240224415572"
     },
     "user_tz": 480
    },
    "id": "CDg2Msn0lF9h"
   },
   "outputs": [],
   "source": [
    "df_video = pd.json_normalize(video_mongo)\n",
    "df_video['snippet.tags'] = df_video['snippet.tags'].fillna('[]')"
   ]
  },
  {
   "cell_type": "code",
   "execution_count": 12,
   "metadata": {
    "colab": {
     "base_uri": "https://localhost:8080/"
    },
    "executionInfo": {
     "elapsed": 535,
     "status": "ok",
     "timestamp": 1639495837452,
     "user": {
      "displayName": "Chien Yuan Chang",
      "photoUrl": "https://lh3.googleusercontent.com/a-/AOh14Gh-ZoTW8dc2VTtzRDYgaNQ1fpjQNTp7RWhLtJPm=s64",
      "userId": "11770959240224415572"
     },
     "user_tz": 480
    },
    "id": "cZwxNhcm9qnL",
    "outputId": "3041b173-0fea-4603-b740-dde8f0768e3d"
   },
   "outputs": [
    {
     "name": "stdout",
     "output_type": "stream",
     "text": [
      "<class 'pandas.core.frame.DataFrame'>\n",
      "RangeIndex: 38221 entries, 0 to 38220\n",
      "Data columns (total 18 columns):\n",
      " #   Column                     Non-Null Count  Dtype \n",
      "---  ------                     --------------  ----- \n",
      " 0   id                         38221 non-null  object\n",
      " 1   timestamp                  38221 non-null  object\n",
      " 2   snippet.publishedAt        38221 non-null  object\n",
      " 3   snippet.channelId          38221 non-null  object\n",
      " 4   snippet.title              38221 non-null  object\n",
      " 5   snippet.description        38221 non-null  object\n",
      " 6   snippet.channelTitle       38221 non-null  object\n",
      " 7   snippet.tags               38221 non-null  object\n",
      " 8   snippet.categoryId         38221 non-null  object\n",
      " 9   contentDetails.duration    38221 non-null  object\n",
      " 10  contentDetails.dimension   38221 non-null  object\n",
      " 11  contentDetails.definition  38221 non-null  object\n",
      " 12  contentDetails.caption     38221 non-null  object\n",
      " 13  contentDetails.projection  38221 non-null  object\n",
      " 14  status.license             38221 non-null  object\n",
      " 15  status.embeddable          38221 non-null  bool  \n",
      " 16  status.madeForKids         38221 non-null  bool  \n",
      " 17  statistics.viewCount       35358 non-null  object\n",
      "dtypes: bool(2), object(16)\n",
      "memory usage: 4.7+ MB\n"
     ]
    }
   ],
   "source": [
    "df_video.info()"
   ]
  },
  {
   "cell_type": "code",
   "execution_count": 13,
   "metadata": {
    "colab": {
     "base_uri": "https://localhost:8080/"
    },
    "executionInfo": {
     "elapsed": 393592,
     "status": "ok",
     "timestamp": 1639496231525,
     "user": {
      "displayName": "Chien Yuan Chang",
      "photoUrl": "https://lh3.googleusercontent.com/a-/AOh14Gh-ZoTW8dc2VTtzRDYgaNQ1fpjQNTp7RWhLtJPm=s64",
      "userId": "11770959240224415572"
     },
     "user_tz": 480
    },
    "id": "NpuB6RKNI92N",
    "outputId": "5fb605d4-58f1-47a9-8c63-adef271f9d8e"
   },
   "outputs": [
    {
     "name": "stderr",
     "output_type": "stream",
     "text": [
      "/usr/local/lib/python3.7/dist-packages/ipykernel_launcher.py:6: SettingWithCopyWarning: \n",
      "A value is trying to be set on a copy of a slice from a DataFrame.\n",
      "Try using .loc[row_indexer,col_indexer] = value instead\n",
      "\n",
      "See the caveats in the documentation: https://pandas.pydata.org/pandas-docs/stable/user_guide/indexing.html#returning-a-view-versus-a-copy\n",
      "  \n",
      "/usr/local/lib/python3.7/dist-packages/ipykernel_launcher.py:7: SettingWithCopyWarning: \n",
      "A value is trying to be set on a copy of a slice from a DataFrame.\n",
      "Try using .loc[row_indexer,col_indexer] = value instead\n",
      "\n",
      "See the caveats in the documentation: https://pandas.pydata.org/pandas-docs/stable/user_guide/indexing.html#returning-a-view-versus-a-copy\n",
      "  import sys\n",
      "/usr/local/lib/python3.7/dist-packages/ipykernel_launcher.py:8: SettingWithCopyWarning: \n",
      "A value is trying to be set on a copy of a slice from a DataFrame.\n",
      "Try using .loc[row_indexer,col_indexer] = value instead\n",
      "\n",
      "See the caveats in the documentation: https://pandas.pydata.org/pandas-docs/stable/user_guide/indexing.html#returning-a-view-versus-a-copy\n",
      "  \n"
     ]
    }
   ],
   "source": [
    "df_video.dropna(how='any', inplace=True)\n",
    "df_video.drop_duplicates(subset = 'id', inplace=True, keep='last')\n",
    "df_video['title_nlp'] = df_video['snippet.title'].map(lambda x:nlp(x))\n",
    "df_video['language'] = df_video['title_nlp'].map(lambda x: x._.language['language'])\n",
    "df_video = df_video[df_video['language'] == 'en']\n",
    "df_video['status.madeForKids'] = df_video['status.madeForKids'].astype(int)#madeForKids: 2%\n",
    "df_video['status.embeddable'] = df_video['status.embeddable'].astype(int) #embeddable: 1%\n",
    "df_video['statistics.viewCount'] = df_video['statistics.viewCount'].astype(int)\n",
    "df_video['contentDetails.duration'] = df_video['contentDetails.duration'].map(lambda x: int(isodate.parse_duration(x).total_seconds())) #isodate new library\n",
    "df_video['2d'] = (df_video['contentDetails.dimension'] == '2d').astype(int) #2d 100%\n",
    "df_video['hd'] = (df_video['contentDetails.definition'] == 'hd').astype(int) #hd 86%\n",
    "df_video['rectangular'] = (df_video['contentDetails.projection'] == 'rectangular').astype(int) #rectangular 99.9%\n",
    "df_video['timestamp'] = pd.to_datetime(df_video['timestamp'], utc=True)\n",
    "df_video['snippet.publishedAt'] = pd.to_datetime(df_video['snippet.publishedAt'])\n",
    "df_video['video_publish_sec'] = (df_video['timestamp'] - df_video['snippet.publishedAt']).dt.total_seconds().astype(int)\n",
    "df_video = pd.get_dummies(df_video, columns=['snippet.categoryId'], drop_first=False)\n",
    "df_video.reset_index(drop=True, inplace=True)"
   ]
  },
  {
   "cell_type": "code",
   "execution_count": 14,
   "metadata": {
    "executionInfo": {
     "elapsed": 602998,
     "status": "ok",
     "timestamp": 1639496834519,
     "user": {
      "displayName": "Chien Yuan Chang",
      "photoUrl": "https://lh3.googleusercontent.com/a-/AOh14Gh-ZoTW8dc2VTtzRDYgaNQ1fpjQNTp7RWhLtJPm=s64",
      "userId": "11770959240224415572"
     },
     "user_tz": 480
    },
    "id": "5pYtqolfbkC3"
   },
   "outputs": [],
   "source": [
    "#nlp clean\n",
    "df_video['description_nlp'] = df_video['snippet.description'].map(lambda x:nlp(x))\n",
    "df_video['tags_nlp'] = df_video['snippet.tags'].map(lambda x: ' '.join(x)).map(lambda x:nlp(x))\n",
    "df_video['title_clean'] = df_video['title_nlp'].map(lambda x: [[w.lemma_.lower() for w in x if \n",
    "                                                               (not w.is_stop and not w.is_punct and not w.like_num) or (w.lemma_=='not')]])\n",
    "df_video['title_clean'] = df_video['title_clean'].map(lambda x: ' '.join(x[0])).map(lambda x: x.replace('\\n',''))\n",
    "df_video['description_clean'] = df_video['description_nlp'].map(lambda x: [[w.lemma_.lower() for w in x if \n",
    "                                                                           (not w.is_stop and not w.is_punct and not w.like_num) or (w.lemma_=='not')]])\n",
    "df_video['description_clean'] = df_video['description_clean'].map(lambda x: ' '.join(x[0])).map(lambda x: x.replace('\\n',''))\n",
    "df_video['tags_clean'] = df_video['tags_nlp'].map(lambda x: [[w.lemma_.lower() for w in x if \n",
    "                                                                           (not w.is_stop and not w.is_punct and not w.like_num) or (w.lemma_=='not')]])\n",
    "df_video['tags_clean'] = df_video['tags_clean'].map(lambda x: ' '.join(x[0])).map(lambda x: x.replace('\\n',''))"
   ]
  },
  {
   "cell_type": "code",
   "execution_count": 15,
   "metadata": {
    "colab": {
     "base_uri": "https://localhost:8080/"
    },
    "executionInfo": {
     "elapsed": 20,
     "status": "ok",
     "timestamp": 1639496834520,
     "user": {
      "displayName": "Chien Yuan Chang",
      "photoUrl": "https://lh3.googleusercontent.com/a-/AOh14Gh-ZoTW8dc2VTtzRDYgaNQ1fpjQNTp7RWhLtJPm=s64",
      "userId": "11770959240224415572"
     },
     "user_tz": 480
    },
    "id": "BWlAFPoCXaAJ",
    "outputId": "bdc4fb83-10a2-4b91-d23c-4833d1686b6d"
   },
   "outputs": [
    {
     "name": "stdout",
     "output_type": "stream",
     "text": [
      "<class 'pandas.core.frame.DataFrame'>\n",
      "RangeIndex: 10869 entries, 0 to 10868\n",
      "Data columns (total 42 columns):\n",
      " #   Column                     Non-Null Count  Dtype              \n",
      "---  ------                     --------------  -----              \n",
      " 0   id                         10869 non-null  object             \n",
      " 1   timestamp                  10869 non-null  datetime64[ns, UTC]\n",
      " 2   snippet.publishedAt        10869 non-null  datetime64[ns, UTC]\n",
      " 3   snippet.channelId          10869 non-null  object             \n",
      " 4   snippet.title              10869 non-null  object             \n",
      " 5   snippet.description        10869 non-null  object             \n",
      " 6   snippet.channelTitle       10869 non-null  object             \n",
      " 7   snippet.tags               10869 non-null  object             \n",
      " 8   contentDetails.duration    10869 non-null  int64              \n",
      " 9   contentDetails.dimension   10869 non-null  object             \n",
      " 10  contentDetails.definition  10869 non-null  object             \n",
      " 11  contentDetails.caption     10869 non-null  object             \n",
      " 12  contentDetails.projection  10869 non-null  object             \n",
      " 13  status.license             10869 non-null  object             \n",
      " 14  status.embeddable          10869 non-null  int64              \n",
      " 15  status.madeForKids         10869 non-null  int64              \n",
      " 16  statistics.viewCount       10869 non-null  int64              \n",
      " 17  title_nlp                  10869 non-null  object             \n",
      " 18  language                   10869 non-null  object             \n",
      " 19  2d                         10869 non-null  int64              \n",
      " 20  hd                         10869 non-null  int64              \n",
      " 21  rectangular                10869 non-null  int64              \n",
      " 22  video_publish_sec          10869 non-null  int64              \n",
      " 23  snippet.categoryId_1       10869 non-null  uint8              \n",
      " 24  snippet.categoryId_10      10869 non-null  uint8              \n",
      " 25  snippet.categoryId_17      10869 non-null  uint8              \n",
      " 26  snippet.categoryId_19      10869 non-null  uint8              \n",
      " 27  snippet.categoryId_2       10869 non-null  uint8              \n",
      " 28  snippet.categoryId_20      10869 non-null  uint8              \n",
      " 29  snippet.categoryId_22      10869 non-null  uint8              \n",
      " 30  snippet.categoryId_23      10869 non-null  uint8              \n",
      " 31  snippet.categoryId_24      10869 non-null  uint8              \n",
      " 32  snippet.categoryId_25      10869 non-null  uint8              \n",
      " 33  snippet.categoryId_26      10869 non-null  uint8              \n",
      " 34  snippet.categoryId_27      10869 non-null  uint8              \n",
      " 35  snippet.categoryId_28      10869 non-null  uint8              \n",
      " 36  snippet.categoryId_29      10869 non-null  uint8              \n",
      " 37  description_nlp            10869 non-null  object             \n",
      " 38  tags_nlp                   10869 non-null  object             \n",
      " 39  title_clean                10869 non-null  object             \n",
      " 40  description_clean          10869 non-null  object             \n",
      " 41  tags_clean                 10869 non-null  object             \n",
      "dtypes: datetime64[ns, UTC](2), int64(8), object(18), uint8(14)\n",
      "memory usage: 2.5+ MB\n"
     ]
    }
   ],
   "source": [
    "df_video.info()"
   ]
  },
  {
   "cell_type": "code",
   "execution_count": 16,
   "metadata": {
    "executionInfo": {
     "elapsed": 1433,
     "status": "ok",
     "timestamp": 1639496835941,
     "user": {
      "displayName": "Chien Yuan Chang",
      "photoUrl": "https://lh3.googleusercontent.com/a-/AOh14Gh-ZoTW8dc2VTtzRDYgaNQ1fpjQNTp7RWhLtJPm=s64",
      "userId": "11770959240224415572"
     },
     "user_tz": 480
    },
    "id": "MEwMz4sfJ1Fj"
   },
   "outputs": [],
   "source": [
    "channel_mongo = list(channels.find({}, {'_id':0, 'id':1, 'timestamp': 1, \n",
    "                                        'snippet': {'title': 1, 'publishedAt': 1, 'country': 1}, #'description': 1,\n",
    "                                        'statistics': {'subscriberCount':1, 'hiddenSubscriberCount':1, 'videoCount': 1}, #'viewCount': 1, \n",
    "                                        'status': {'madeForKids': 1}})) #'privacyStatus': 1,"
   ]
  },
  {
   "cell_type": "code",
   "execution_count": 17,
   "metadata": {
    "colab": {
     "base_uri": "https://localhost:8080/"
    },
    "executionInfo": {
     "elapsed": 1144,
     "status": "ok",
     "timestamp": 1639496837081,
     "user": {
      "displayName": "Chien Yuan Chang",
      "photoUrl": "https://lh3.googleusercontent.com/a-/AOh14Gh-ZoTW8dc2VTtzRDYgaNQ1fpjQNTp7RWhLtJPm=s64",
      "userId": "11770959240224415572"
     },
     "user_tz": 480
    },
    "id": "-uGdSH6_J3_J",
    "outputId": "d71c8940-6c8b-4c9a-b4a7-2b886b994ceb"
   },
   "outputs": [
    {
     "name": "stdout",
     "output_type": "stream",
     "text": [
      "<class 'pandas.core.frame.DataFrame'>\n",
      "RangeIndex: 20056 entries, 0 to 20055\n",
      "Data columns (total 9 columns):\n",
      " #   Column                            Non-Null Count  Dtype \n",
      "---  ------                            --------------  ----- \n",
      " 0   id                                20056 non-null  object\n",
      " 1   timestamp                         20056 non-null  object\n",
      " 2   snippet.title                     20056 non-null  object\n",
      " 3   snippet.publishedAt               20056 non-null  object\n",
      " 4   snippet.country                   16447 non-null  object\n",
      " 5   statistics.subscriberCount        19275 non-null  object\n",
      " 6   statistics.hiddenSubscriberCount  20056 non-null  bool  \n",
      " 7   statistics.videoCount             20056 non-null  object\n",
      " 8   status.madeForKids                14685 non-null  object\n",
      "dtypes: bool(1), object(8)\n",
      "memory usage: 1.2+ MB\n"
     ]
    }
   ],
   "source": [
    "df_channel = pd.json_normalize(channel_mongo)\n",
    "df_channel.info()"
   ]
  },
  {
   "cell_type": "code",
   "execution_count": 18,
   "metadata": {
    "executionInfo": {
     "elapsed": 12,
     "status": "ok",
     "timestamp": 1639496837084,
     "user": {
      "displayName": "Chien Yuan Chang",
      "photoUrl": "https://lh3.googleusercontent.com/a-/AOh14Gh-ZoTW8dc2VTtzRDYgaNQ1fpjQNTp7RWhLtJPm=s64",
      "userId": "11770959240224415572"
     },
     "user_tz": 480
    },
    "id": "m7_58-A4RtY3"
   },
   "outputs": [],
   "source": [
    "df_channel['status.madeForKids'] = df_channel['status.madeForKids'].fillna(False)\n",
    "df_channel.dropna(subset= ['statistics.subscriberCount'], inplace=True) #consider to fill by other numbers later\n",
    "df_channel.drop_duplicates(subset = 'id', inplace=True, keep='last')\n",
    "df_channel['statistics.subscriberCount'] = df_channel['statistics.subscriberCount'].astype(int)\n",
    "df_channel['status.madeForKids'] = df_channel['status.madeForKids'].astype(int)#madeForKids: 1.5%\n",
    "df_channel['statistics.videoCount'] = df_channel['statistics.videoCount'].astype(int)\n",
    "df_channel['US'] = (df_channel['snippet.country'] == 'US').astype(int) #42%\n",
    "df_channel['IN'] = (df_channel['snippet.country'] == 'IN').astype(int) #17%\n",
    "df_channel['GB'] = (df_channel['snippet.country'] == 'GB').astype(int) #8%\n",
    "df_channel['CA'] = (df_channel['snippet.country'] == 'CA').astype(int) #4%\n",
    "df_channel['AU'] = (df_channel['snippet.country'] == 'AU').astype(int) #3%\n",
    "df_channel['timestamp'] = pd.to_datetime(df_channel['timestamp'], utc=True)\n",
    "df_channel['snippet.publishedAt'] = pd.to_datetime(df_channel['snippet.publishedAt'])\n",
    "df_channel['channel_publish_sec'] = (df_channel['timestamp'] - df_channel['snippet.publishedAt']).dt.total_seconds().astype(int)"
   ]
  },
  {
   "cell_type": "code",
   "execution_count": 19,
   "metadata": {
    "colab": {
     "base_uri": "https://localhost:8080/"
    },
    "executionInfo": {
     "elapsed": 12,
     "status": "ok",
     "timestamp": 1639496837085,
     "user": {
      "displayName": "Chien Yuan Chang",
      "photoUrl": "https://lh3.googleusercontent.com/a-/AOh14Gh-ZoTW8dc2VTtzRDYgaNQ1fpjQNTp7RWhLtJPm=s64",
      "userId": "11770959240224415572"
     },
     "user_tz": 480
    },
    "id": "trTuKbKMnoSs",
    "outputId": "95663712-5f3f-488b-b83f-79421925d396"
   },
   "outputs": [
    {
     "name": "stdout",
     "output_type": "stream",
     "text": [
      "<class 'pandas.core.frame.DataFrame'>\n",
      "Int64Index: 6553 entries, 4 to 20055\n",
      "Data columns (total 15 columns):\n",
      " #   Column                            Non-Null Count  Dtype              \n",
      "---  ------                            --------------  -----              \n",
      " 0   id                                6553 non-null   object             \n",
      " 1   timestamp                         6553 non-null   datetime64[ns, UTC]\n",
      " 2   snippet.title                     6553 non-null   object             \n",
      " 3   snippet.publishedAt               6553 non-null   datetime64[ns, UTC]\n",
      " 4   snippet.country                   5402 non-null   object             \n",
      " 5   statistics.subscriberCount        6553 non-null   int64              \n",
      " 6   statistics.hiddenSubscriberCount  6553 non-null   bool               \n",
      " 7   statistics.videoCount             6553 non-null   int64              \n",
      " 8   status.madeForKids                6553 non-null   int64              \n",
      " 9   US                                6553 non-null   int64              \n",
      " 10  IN                                6553 non-null   int64              \n",
      " 11  GB                                6553 non-null   int64              \n",
      " 12  CA                                6553 non-null   int64              \n",
      " 13  AU                                6553 non-null   int64              \n",
      " 14  channel_publish_sec               6553 non-null   int64              \n",
      "dtypes: bool(1), datetime64[ns, UTC](2), int64(9), object(3)\n",
      "memory usage: 774.3+ KB\n"
     ]
    }
   ],
   "source": [
    "df_channel.info()"
   ]
  },
  {
   "cell_type": "code",
   "execution_count": 20,
   "metadata": {
    "executionInfo": {
     "elapsed": 11,
     "status": "ok",
     "timestamp": 1639496837297,
     "user": {
      "displayName": "Chien Yuan Chang",
      "photoUrl": "https://lh3.googleusercontent.com/a-/AOh14Gh-ZoTW8dc2VTtzRDYgaNQ1fpjQNTp7RWhLtJPm=s64",
      "userId": "11770959240224415572"
     },
     "user_tz": 480
    },
    "id": "J-O3u-BPpe2u"
   },
   "outputs": [],
   "source": [
    "df = df_video.merge(df_channel, left_on='snippet.channelId', right_on='id')\n",
    "df['daily_view'] = (df['statistics.viewCount'] / df['video_publish_sec'] * 60 * 60 * 24).astype('int')\n",
    "df['statistics.viewCount'][df['statistics.viewCount']==0] = 1\n",
    "df['total_view_log10'] = np.log10(df['statistics.viewCount'])\n",
    "df['daily_view'][df['daily_view']==0] = 1\n",
    "df['daily_view_log10'] = np.log10(df['daily_view'])"
   ]
  },
  {
   "cell_type": "code",
   "execution_count": 31,
   "metadata": {
    "colab": {
     "base_uri": "https://localhost:8080/"
    },
    "executionInfo": {
     "elapsed": 152,
     "status": "ok",
     "timestamp": 1639632968376,
     "user": {
      "displayName": "Chien Yuan Chang",
      "photoUrl": "https://lh3.googleusercontent.com/a-/AOh14Gh-ZoTW8dc2VTtzRDYgaNQ1fpjQNTp7RWhLtJPm=s64",
      "userId": "11770959240224415572"
     },
     "user_tz": 480
    },
    "id": "YkBw3Ma6snAR",
    "outputId": "3acfd237-0cb6-45e5-a9d3-0d38e369f13b"
   },
   "outputs": [
    {
     "name": "stdout",
     "output_type": "stream",
     "text": [
      "<class 'pandas.core.frame.DataFrame'>\n",
      "Int64Index: 10472 entries, 0 to 10471\n",
      "Data columns (total 36 columns):\n",
      " #   Column                      Non-Null Count  Dtype  \n",
      "---  ------                      --------------  -----  \n",
      " 0   contentDetails.duration     10472 non-null  int64  \n",
      " 1   status.madeForKids_x        10472 non-null  int64  \n",
      " 2   hd                          10472 non-null  int64  \n",
      " 3   rectangular                 10472 non-null  int64  \n",
      " 4   snippet.categoryId_1        10472 non-null  uint8  \n",
      " 5   snippet.categoryId_10       10472 non-null  uint8  \n",
      " 6   snippet.categoryId_17       10472 non-null  uint8  \n",
      " 7   snippet.categoryId_19       10472 non-null  uint8  \n",
      " 8   snippet.categoryId_2        10472 non-null  uint8  \n",
      " 9   snippet.categoryId_20       10472 non-null  uint8  \n",
      " 10  snippet.categoryId_22       10472 non-null  uint8  \n",
      " 11  snippet.categoryId_23       10472 non-null  uint8  \n",
      " 12  snippet.categoryId_24       10472 non-null  uint8  \n",
      " 13  snippet.categoryId_25       10472 non-null  uint8  \n",
      " 14  snippet.categoryId_26       10472 non-null  uint8  \n",
      " 15  snippet.categoryId_27       10472 non-null  uint8  \n",
      " 16  snippet.categoryId_28       10472 non-null  uint8  \n",
      " 17  snippet.categoryId_29       10472 non-null  uint8  \n",
      " 18  statistics.subscriberCount  10472 non-null  int64  \n",
      " 19  statistics.videoCount       10472 non-null  int64  \n",
      " 20  status.madeForKids_y        10472 non-null  int64  \n",
      " 21  US                          10472 non-null  int64  \n",
      " 22  IN                          10472 non-null  int64  \n",
      " 23  GB                          10472 non-null  int64  \n",
      " 24  CA                          10472 non-null  int64  \n",
      " 25  AU                          10472 non-null  int64  \n",
      " 26  channel_publish_sec         10472 non-null  int64  \n",
      " 27  title_clean                 10472 non-null  object \n",
      " 28  description_clean           10472 non-null  object \n",
      " 29  tags_clean                  10472 non-null  object \n",
      " 30  id_x                        10472 non-null  object \n",
      " 31  statistics.viewCount        10472 non-null  int64  \n",
      " 32  video_publish_sec           10472 non-null  int64  \n",
      " 33  daily_view                  10472 non-null  int64  \n",
      " 34  total_view_log10            10472 non-null  float64\n",
      " 35  daily_view_log10            10472 non-null  float64\n",
      "dtypes: float64(2), int64(16), object(4), uint8(14)\n",
      "memory usage: 2.0+ MB\n"
     ]
    }
   ],
   "source": [
    "df.info()"
   ]
  },
  {
   "cell_type": "code",
   "execution_count": 30,
   "metadata": {
    "executionInfo": {
     "elapsed": 250,
     "status": "ok",
     "timestamp": 1639632961258,
     "user": {
      "displayName": "Chien Yuan Chang",
      "photoUrl": "https://lh3.googleusercontent.com/a-/AOh14Gh-ZoTW8dc2VTtzRDYgaNQ1fpjQNTp7RWhLtJPm=s64",
      "userId": "11770959240224415572"
     },
     "user_tz": 480
    },
    "id": "twOLUr35MwcC"
   },
   "outputs": [],
   "source": [
    "#save df\n",
    "df_save = df[['contentDetails.duration', 'status.madeForKids_x', 'hd','rectangular', 'snippet.categoryId_1', \n",
    "               'snippet.categoryId_10', 'snippet.categoryId_17', 'snippet.categoryId_19', 'snippet.categoryId_2', \n",
    "               'snippet.categoryId_20', 'snippet.categoryId_22', 'snippet.categoryId_23', 'snippet.categoryId_24', \n",
    "               'snippet.categoryId_25', 'snippet.categoryId_26', 'snippet.categoryId_27', 'snippet.categoryId_28', \n",
    "               'snippet.categoryId_29', 'statistics.subscriberCount', 'statistics.videoCount', 'status.madeForKids_y', \n",
    "               'US', 'IN', 'GB', 'CA', 'AU', 'channel_publish_sec', 'title_clean', 'description_clean', 'tags_clean',\n",
    "               'id_x', 'statistics.viewCount', 'video_publish_sec', 'daily_view', 'total_view_log10', 'daily_view_log10']]\n",
    "\n",
    "with open('/content/drive/MyDrive/youtube_model/df_1215.pkl', 'wb') as f:\n",
    "    pickle.dump(df_save, f)\n"
   ]
  },
  {
   "cell_type": "code",
   "execution_count": 7,
   "metadata": {
    "executionInfo": {
     "elapsed": 952,
     "status": "ok",
     "timestamp": 1639668492144,
     "user": {
      "displayName": "Chien Yuan Chang",
      "photoUrl": "https://lh3.googleusercontent.com/a-/AOh14Gh-ZoTW8dc2VTtzRDYgaNQ1fpjQNTp7RWhLtJPm=s64",
      "userId": "11770959240224415572"
     },
     "user_tz": 480
    },
    "id": "L_Q4aUNcicMG"
   },
   "outputs": [],
   "source": [
    "#load\n",
    "with open('/content/drive/MyDrive/youtube_model/df_1215.pkl', 'rb') as f:\n",
    "    df = pickle.load(f)"
   ]
  },
  {
   "cell_type": "code",
   "execution_count": 8,
   "metadata": {
    "colab": {
     "base_uri": "https://localhost:8080/"
    },
    "executionInfo": {
     "elapsed": 167,
     "status": "ok",
     "timestamp": 1639668496792,
     "user": {
      "displayName": "Chien Yuan Chang",
      "photoUrl": "https://lh3.googleusercontent.com/a-/AOh14Gh-ZoTW8dc2VTtzRDYgaNQ1fpjQNTp7RWhLtJPm=s64",
      "userId": "11770959240224415572"
     },
     "user_tz": 480
    },
    "id": "QxSmSbbCzM6Q",
    "outputId": "41f06b78-86dd-4835-9631-1be901eda0be"
   },
   "outputs": [
    {
     "name": "stdout",
     "output_type": "stream",
     "text": [
      "<class 'pandas.core.frame.DataFrame'>\n",
      "Int64Index: 10472 entries, 0 to 10471\n",
      "Data columns (total 36 columns):\n",
      " #   Column                      Non-Null Count  Dtype  \n",
      "---  ------                      --------------  -----  \n",
      " 0   contentDetails.duration     10472 non-null  int64  \n",
      " 1   status.madeForKids_x        10472 non-null  int64  \n",
      " 2   hd                          10472 non-null  int64  \n",
      " 3   rectangular                 10472 non-null  int64  \n",
      " 4   snippet.categoryId_1        10472 non-null  uint8  \n",
      " 5   snippet.categoryId_10       10472 non-null  uint8  \n",
      " 6   snippet.categoryId_17       10472 non-null  uint8  \n",
      " 7   snippet.categoryId_19       10472 non-null  uint8  \n",
      " 8   snippet.categoryId_2        10472 non-null  uint8  \n",
      " 9   snippet.categoryId_20       10472 non-null  uint8  \n",
      " 10  snippet.categoryId_22       10472 non-null  uint8  \n",
      " 11  snippet.categoryId_23       10472 non-null  uint8  \n",
      " 12  snippet.categoryId_24       10472 non-null  uint8  \n",
      " 13  snippet.categoryId_25       10472 non-null  uint8  \n",
      " 14  snippet.categoryId_26       10472 non-null  uint8  \n",
      " 15  snippet.categoryId_27       10472 non-null  uint8  \n",
      " 16  snippet.categoryId_28       10472 non-null  uint8  \n",
      " 17  snippet.categoryId_29       10472 non-null  uint8  \n",
      " 18  statistics.subscriberCount  10472 non-null  int64  \n",
      " 19  statistics.videoCount       10472 non-null  int64  \n",
      " 20  status.madeForKids_y        10472 non-null  int64  \n",
      " 21  US                          10472 non-null  int64  \n",
      " 22  IN                          10472 non-null  int64  \n",
      " 23  GB                          10472 non-null  int64  \n",
      " 24  CA                          10472 non-null  int64  \n",
      " 25  AU                          10472 non-null  int64  \n",
      " 26  channel_publish_sec         10472 non-null  int64  \n",
      " 27  title_clean                 10472 non-null  object \n",
      " 28  description_clean           10472 non-null  object \n",
      " 29  tags_clean                  10472 non-null  object \n",
      " 30  id_x                        10472 non-null  object \n",
      " 31  statistics.viewCount        10472 non-null  int64  \n",
      " 32  video_publish_sec           10472 non-null  int64  \n",
      " 33  daily_view                  10472 non-null  int64  \n",
      " 34  total_view_log10            10472 non-null  float64\n",
      " 35  daily_view_log10            10472 non-null  float64\n",
      "dtypes: float64(2), int64(16), object(4), uint8(14)\n",
      "memory usage: 2.0+ MB\n"
     ]
    }
   ],
   "source": [
    "df.info()"
   ]
  },
  {
   "cell_type": "code",
   "execution_count": 9,
   "metadata": {
    "executionInfo": {
     "elapsed": 173,
     "status": "ok",
     "timestamp": 1639668502380,
     "user": {
      "displayName": "Chien Yuan Chang",
      "photoUrl": "https://lh3.googleusercontent.com/a-/AOh14Gh-ZoTW8dc2VTtzRDYgaNQ1fpjQNTp7RWhLtJPm=s64",
      "userId": "11770959240224415572"
     },
     "user_tz": 480
    },
    "id": "kDdyTx8JQAQa"
   },
   "outputs": [],
   "source": [
    "#holdout test data\n",
    "df_train, df_test= train_test_split(df, test_size=0.2, random_state=11)"
   ]
  },
  {
   "cell_type": "code",
   "execution_count": 10,
   "metadata": {
    "executionInfo": {
     "elapsed": 6,
     "status": "ok",
     "timestamp": 1639668503141,
     "user": {
      "displayName": "Chien Yuan Chang",
      "photoUrl": "https://lh3.googleusercontent.com/a-/AOh14Gh-ZoTW8dc2VTtzRDYgaNQ1fpjQNTp7RWhLtJPm=s64",
      "userId": "11770959240224415572"
     },
     "user_tz": 480
    },
    "id": "CtTr6oCGQrYv"
   },
   "outputs": [],
   "source": [
    "#training data and validation data\n",
    "df_train, df_val= train_test_split(df_train, test_size=0.25, random_state=11)"
   ]
  },
  {
   "cell_type": "code",
   "execution_count": 11,
   "metadata": {
    "colab": {
     "base_uri": "https://localhost:8080/"
    },
    "executionInfo": {
     "elapsed": 5,
     "status": "ok",
     "timestamp": 1639668504219,
     "user": {
      "displayName": "Chien Yuan Chang",
      "photoUrl": "https://lh3.googleusercontent.com/a-/AOh14Gh-ZoTW8dc2VTtzRDYgaNQ1fpjQNTp7RWhLtJPm=s64",
      "userId": "11770959240224415572"
     },
     "user_tz": 480
    },
    "id": "_NWkFrh2Q_li",
    "outputId": "e8c5b0b8-19bd-4062-f1e4-0fb4585f1d4b"
   },
   "outputs": [
    {
     "name": "stdout",
     "output_type": "stream",
     "text": [
      "6282 2095 2095\n"
     ]
    }
   ],
   "source": [
    "print(len(df_train), len(df_val), len(df_test))\n",
    "df_train.reset_index(drop=True, inplace=True)\n",
    "df_val.reset_index(drop=True, inplace=True)\n",
    "df_test.reset_index(drop=True, inplace=True)"
   ]
  },
  {
   "cell_type": "code",
   "execution_count": 12,
   "metadata": {
    "executionInfo": {
     "elapsed": 242,
     "status": "ok",
     "timestamp": 1639668506324,
     "user": {
      "displayName": "Chien Yuan Chang",
      "photoUrl": "https://lh3.googleusercontent.com/a-/AOh14Gh-ZoTW8dc2VTtzRDYgaNQ1fpjQNTp7RWhLtJPm=s64",
      "userId": "11770959240224415572"
     },
     "user_tz": 480
    },
    "id": "aNFhQtNeuT-0"
   },
   "outputs": [],
   "source": [
    "#daily\n",
    "features = ['contentDetails.duration', 'status.madeForKids_x', 'hd','rectangular', 'snippet.categoryId_1', 'snippet.categoryId_10', \n",
    "            'snippet.categoryId_17', 'snippet.categoryId_19', 'snippet.categoryId_2', 'snippet.categoryId_20', 'snippet.categoryId_22', 'snippet.categoryId_23',\n",
    "            'snippet.categoryId_24', 'snippet.categoryId_25', 'snippet.categoryId_26', 'snippet.categoryId_27', 'snippet.categoryId_28', 'snippet.categoryId_29', \n",
    "            'statistics.subscriberCount', 'statistics.videoCount', 'status.madeForKids_y', 'US', 'IN', 'GB', 'CA', 'AU', 'channel_publish_sec']\n",
    "label = ['daily_view_log10']"
   ]
  },
  {
   "cell_type": "code",
   "execution_count": 13,
   "metadata": {
    "executionInfo": {
     "elapsed": 376,
     "status": "ok",
     "timestamp": 1639668509951,
     "user": {
      "displayName": "Chien Yuan Chang",
      "photoUrl": "https://lh3.googleusercontent.com/a-/AOh14Gh-ZoTW8dc2VTtzRDYgaNQ1fpjQNTp7RWhLtJPm=s64",
      "userId": "11770959240224415572"
     },
     "user_tz": 480
    },
    "id": "GlzLeAs7_GT1"
   },
   "outputs": [],
   "source": [
    "scaler = StandardScaler()\n",
    "X_fea_train = scaler.fit_transform(df_train[features])\n",
    "X_fea_val = scaler.transform(df_val[features])\n",
    "\n",
    "with open('/content/drive/MyDrive/youtube_model/feature_scaler_1216_log_daily_view.pkl', 'wb') as f:\n",
    "    pickle.dump(scaler, f)\n"
   ]
  },
  {
   "cell_type": "code",
   "execution_count": null,
   "metadata": {
    "id": "LupV6Sql9Glm"
   },
   "outputs": [],
   "source": [
    "#run if needed to download new thumbnails\n",
    "def get_thumbnail(video_id_list):\n",
    "    count = 0\n",
    "    for v in video_id_list:\n",
    "        thumbnail = requests.get(f'https://i.ytimg.com/vi/{v}/mqdefault.jpg').content\n",
    "        with open(f'/content/drive/MyDrive/thumbnails/{v}.jpg', 'wb') as f:\n",
    "            f.write(thumbnail)\n",
    "        #time.sleep(np.random.uniform(1, 3))\n",
    "        count += 1\n",
    "        if count % 100 == 0:\n",
    "            print(f'{count} done')\n",
    "    print('thumbnails done!')\n",
    "    pass\n",
    "\n",
    "import requests\n",
    "import os\n",
    "all_video_id = videos.distinct('id')\n",
    "old_video_id = os.listdir(\"/content/drive/MyDrive/thumbnails/\")\n",
    "old_video_id = [x[:-4] for x in old_video_id]\n",
    "list_difference = list(set(all_video_id) - set(old_video_id))\n",
    "get_thumbnail(list_difference)\n"
   ]
  },
  {
   "cell_type": "code",
   "execution_count": null,
   "metadata": {
    "id": "aESRtfCBje_6"
   },
   "outputs": [],
   "source": [
    "# copy to google colab may speed up\n",
    "%cp -av \"/content/drive/MyDrive/thumbnails\" \"/content/sample_data\""
   ]
  },
  {
   "cell_type": "code",
   "execution_count": 14,
   "metadata": {
    "colab": {
     "base_uri": "https://localhost:8080/"
    },
    "executionInfo": {
     "elapsed": 275333,
     "status": "ok",
     "timestamp": 1639668793179,
     "user": {
      "displayName": "Chien Yuan Chang",
      "photoUrl": "https://lh3.googleusercontent.com/a-/AOh14Gh-ZoTW8dc2VTtzRDYgaNQ1fpjQNTp7RWhLtJPm=s64",
      "userId": "11770959240224415572"
     },
     "user_tz": 480
    },
    "id": "D2AlJcSJEz1I",
    "outputId": "88a60136-ea93-493c-86ce-73befce4d81c"
   },
   "outputs": [
    {
     "name": "stdout",
     "output_type": "stream",
     "text": [
      "first step done\n"
     ]
    }
   ],
   "source": [
    "#faster! but still ram issue\n",
    "images = []\n",
    "for i in df_train.id_x:\n",
    "    with open(f'drive/MyDrive/thumbnails/{i}.jpg', 'rb') as f:\n",
    "        img = Image.open(f).convert('RGB').resize((224,224))\n",
    "        img_data = np.array(img)\n",
    "    images.append(img_data)\n",
    "images = np.array(images)/255\n",
    "print(\"first step done\")\n",
    "images = tf.convert_to_tensor(images, dtype=tf.float32)\n"
   ]
  },
  {
   "cell_type": "code",
   "execution_count": 15,
   "metadata": {
    "colab": {
     "base_uri": "https://localhost:8080/"
    },
    "executionInfo": {
     "elapsed": 7311,
     "status": "ok",
     "timestamp": 1639668801026,
     "user": {
      "displayName": "Chien Yuan Chang",
      "photoUrl": "https://lh3.googleusercontent.com/a-/AOh14Gh-ZoTW8dc2VTtzRDYgaNQ1fpjQNTp7RWhLtJPm=s64",
      "userId": "11770959240224415572"
     },
     "user_tz": 480
    },
    "id": "2Z5AO_dupTeA",
    "outputId": "9d429680-8c5b-42ac-83c1-568aabfd4579"
   },
   "outputs": [
    {
     "name": "stdout",
     "output_type": "stream",
     "text": [
      "first step done\n"
     ]
    }
   ],
   "source": [
    "val_images = []\n",
    "for i in df_val.id_x:\n",
    "    with open(f'drive/MyDrive/thumbnails/{i}.jpg', 'rb') as f:\n",
    "        img = Image.open(f).convert('RGB').resize((224,224))\n",
    "        img_data = np.array(img)\n",
    "    val_images.append(img_data)\n",
    "val_images = np.array(val_images)/255\n",
    "print(\"first step done\")\n",
    "val_images = tf.convert_to_tensor(val_images, dtype=tf.float32)"
   ]
  },
  {
   "cell_type": "code",
   "execution_count": null,
   "metadata": {
    "id": "Vbu6XMsZ7BM9"
   },
   "outputs": [],
   "source": [
    "#slow\n",
    "\"\"\"\n",
    "val_images = []\n",
    "for i in df_val.id_x:\n",
    "    with open(f'drive/MyDrive/thumbnails/{i}.jpg', 'rb') as f:\n",
    "        img = Image.open(f).convert('RGB').resize((224,224))\n",
    "        img_data = np.array(img)/255#.astype(np.float32)#.reshape(-1,)\n",
    "    val_images.append(img_data)\n",
    "print(\"first step done\")\n",
    "val_images = tf.convert_to_tensor(val_images, dtype=tf.float32)\n",
    "\"\"\""
   ]
  },
  {
   "cell_type": "code",
   "execution_count": 37,
   "metadata": {
    "colab": {
     "base_uri": "https://localhost:8080/"
    },
    "executionInfo": {
     "elapsed": 7467,
     "status": "ok",
     "timestamp": 1639687857244,
     "user": {
      "displayName": "Chien Yuan Chang",
      "photoUrl": "https://lh3.googleusercontent.com/a-/AOh14Gh-ZoTW8dc2VTtzRDYgaNQ1fpjQNTp7RWhLtJPm=s64",
      "userId": "11770959240224415572"
     },
     "user_tz": 480
    },
    "id": "K9qVLimkGCRF",
    "outputId": "f76f3ae3-72ef-4718-bc71-175dea9ea985"
   },
   "outputs": [
    {
     "name": "stdout",
     "output_type": "stream",
     "text": [
      "first step done\n"
     ]
    }
   ],
   "source": [
    "test_images = []\n",
    "for i in df_test.id_x:\n",
    "    with open(f'drive/MyDrive/thumbnails/{i}.jpg', 'rb') as f:\n",
    "        img = Image.open(f).convert('RGB').resize((224,224))\n",
    "        img_data = np.array(img)\n",
    "    test_images.append(img_data)\n",
    "test_images = np.array(test_images)/255\n",
    "print(\"first step done\")\n",
    "test_images = tf.convert_to_tensor(test_images, dtype=tf.float32)"
   ]
  },
  {
   "cell_type": "code",
   "execution_count": 16,
   "metadata": {
    "colab": {
     "base_uri": "https://localhost:8080/"
    },
    "executionInfo": {
     "elapsed": 336,
     "status": "ok",
     "timestamp": 1639668801349,
     "user": {
      "displayName": "Chien Yuan Chang",
      "photoUrl": "https://lh3.googleusercontent.com/a-/AOh14Gh-ZoTW8dc2VTtzRDYgaNQ1fpjQNTp7RWhLtJPm=s64",
      "userId": "11770959240224415572"
     },
     "user_tz": 480
    },
    "id": "8ZttQ6db9z9_",
    "outputId": "c803c51d-8c78-4a08-a7e6-b63c5623ad68"
   },
   "outputs": [
    {
     "name": "stdout",
     "output_type": "stream",
     "text": [
      "title_maxlen:  22\n"
     ]
    }
   ],
   "source": [
    "title_maxlen = df_train.title_clean.map(lambda x:len(x.split())).max()\n",
    "print('title_maxlen: ', title_maxlen)\n",
    "title_num_words = 10000\n",
    "title_tokenizer = Tokenizer(num_words=title_num_words)\n",
    "title_tokenizer.fit_on_texts(df_train.title_clean)\n",
    "train_title = title_tokenizer.texts_to_sequences(df_train.title_clean) \n",
    "train_title = sequence.pad_sequences(train_title, maxlen=title_maxlen)\n",
    "\n",
    "val_title = title_tokenizer.texts_to_sequences(df_val.title_clean)\n",
    "val_title = sequence.pad_sequences(val_title, maxlen=title_maxlen)\n",
    "with open('/content/drive/MyDrive/youtube_model/title_tokenizer_1215.pkl', 'wb') as f:\n",
    "    pickle.dump(title_tokenizer, f)"
   ]
  },
  {
   "cell_type": "code",
   "execution_count": 17,
   "metadata": {
    "colab": {
     "base_uri": "https://localhost:8080/"
    },
    "executionInfo": {
     "elapsed": 713,
     "status": "ok",
     "timestamp": 1639668802056,
     "user": {
      "displayName": "Chien Yuan Chang",
      "photoUrl": "https://lh3.googleusercontent.com/a-/AOh14Gh-ZoTW8dc2VTtzRDYgaNQ1fpjQNTp7RWhLtJPm=s64",
      "userId": "11770959240224415572"
     },
     "user_tz": 480
    },
    "id": "H3FX2hJKYkSS",
    "outputId": "e0d0cd92-9523-41b9-e5e5-52df7dcc4c99"
   },
   "outputs": [
    {
     "name": "stdout",
     "output_type": "stream",
     "text": [
      "tag_maxlen:  105\n"
     ]
    }
   ],
   "source": [
    "tag_maxlen = df_train.tags_clean.map(lambda x:len(x.split())).max()\n",
    "print('tag_maxlen: ', tag_maxlen)\n",
    "tag_num_words = 5000\n",
    "tag_tokenizer = Tokenizer(num_words=tag_num_words)\n",
    "tag_tokenizer.fit_on_texts(df_train.tags_clean)\n",
    "train_tag = tag_tokenizer.texts_to_sequences(df_train.tags_clean) \n",
    "train_tag = sequence.pad_sequences(train_tag, maxlen=tag_maxlen)\n",
    "\n",
    "val_tag = tag_tokenizer.texts_to_sequences(df_val.tags_clean)\n",
    "val_tag = sequence.pad_sequences(val_tag, maxlen=tag_maxlen)\n",
    "with open('/content/drive/MyDrive/youtube_model/tag_tokenizer_1215.pkl', 'wb') as f:\n",
    "    pickle.dump(tag_tokenizer, f)"
   ]
  },
  {
   "cell_type": "code",
   "execution_count": 18,
   "metadata": {
    "colab": {
     "base_uri": "https://localhost:8080/"
    },
    "executionInfo": {
     "elapsed": 2279,
     "status": "ok",
     "timestamp": 1639668804333,
     "user": {
      "displayName": "Chien Yuan Chang",
      "photoUrl": "https://lh3.googleusercontent.com/a-/AOh14Gh-ZoTW8dc2VTtzRDYgaNQ1fpjQNTp7RWhLtJPm=s64",
      "userId": "11770959240224415572"
     },
     "user_tz": 480
    },
    "id": "KAYaDjiJcg2I",
    "outputId": "9dd60098-1686-4563-9ed0-2cacdf9c561b"
   },
   "outputs": [
    {
     "name": "stdout",
     "output_type": "stream",
     "text": [
      "des_maxlen:  765\n"
     ]
    }
   ],
   "source": [
    "des_maxlen = df_train.description_clean.map(lambda x:len(x.split())).max()\n",
    "print('des_maxlen: ', des_maxlen)\n",
    "des_num_words = 20000\n",
    "des_tokenizer = Tokenizer(num_words=des_num_words)\n",
    "des_tokenizer.fit_on_texts(df_train.description_clean)\n",
    "train_des = des_tokenizer.texts_to_sequences(df_train.description_clean) \n",
    "train_des = sequence.pad_sequences(train_des, maxlen=des_maxlen)\n",
    "\n",
    "val_des = des_tokenizer.texts_to_sequences(df_val.description_clean)\n",
    "val_des = sequence.pad_sequences(val_des, maxlen=des_maxlen)\n",
    "with open('/content/drive/MyDrive/youtube_model/des_tokenizer_1215.pkl', 'wb') as f:\n",
    "    pickle.dump(des_tokenizer, f)"
   ]
  },
  {
   "cell_type": "code",
   "execution_count": null,
   "metadata": {
    "id": "VsY4-InAKlpU"
   },
   "outputs": [],
   "source": [
    "#slice apporch\n",
    "def generator(data, fea, title, tag, des, batch_size=32, resize=224):\n",
    "    sample_size = len(data)\n",
    "    i = 0\n",
    "    while True:\n",
    "        for _ in range(sample_size//batch_size + 1):\n",
    "            video_id = data.id_x[i:i+batch_size]\n",
    "            images = []\n",
    "            for i in video_id:\n",
    "                with open(f'drive/MyDrive/thumbnails/{i}.jpg', 'rb') as f:\n",
    "                    img = Image.open(f).convert('RGB').resize((resize,resize))\n",
    "                    img_data = np.array(img)/255#.astype(np.float32)#.reshape(-1,)\n",
    "                    images.append(img_data)\n",
    "            images = tf.convert_to_tensor(images, dtype=tf.float32)\n",
    "\n",
    "            X_combined = [\n",
    "                        images,\n",
    "                        np.array(fea[start:start+batch_size]), \n",
    "                        np.array(title[start:start+batch_size]), \n",
    "                        np.array(tag[start:start+batch_size]), \n",
    "                        np.array(des[start:start+batch_size])\n",
    "            ]\n",
    "            \n",
    "            y = data['statistics.viewCount'][i:i+batch_size]\n",
    "            i += batch_size\n",
    "            yield X_combined, np.array(y)\n"
   ]
  },
  {
   "cell_type": "code",
   "execution_count": null,
   "metadata": {
    "id": "WbW7F_LQjoAM"
   },
   "outputs": [],
   "source": [
    "#one by one append approach\n",
    "def generator(data, fea, title, tag, des, batch_size=32, resize=224):\n",
    "    sample_size = len(data)\n",
    "    i = 0\n",
    "    y_o = data['statistics.viewCount']\n",
    "    while True:\n",
    "        images, fea_a, title_a, tag_a, des_a, y_a = [], [], [], [], [], []\n",
    "        for _ in range(batch_size):\n",
    "            if i == len(data):\n",
    "                i = 0 #reset\n",
    "            video_id = data.id_x[i]\n",
    "            with open(f'drive/MyDrive/thumbnails/{video_id}.jpg', 'rb') as f:\n",
    "                img = Image.open(f).convert('RGB').resize((resize,resize))\n",
    "                img_data = np.array(img)/255#.astype(np.float32)#.reshape(-1,)\n",
    "                images.append(img_data)\n",
    "            fea_a.append(fea[i])\n",
    "            title_a.append(title[i])\n",
    "            tag_a.append(tag[i])\n",
    "            des_a.append(des[i])\n",
    "            y_a.append(y_o[i])\n",
    "            i += 1\n",
    "\n",
    "        X_combined = [\n",
    "                    tf.convert_to_tensor(images, dtype=tf.float32),\n",
    "                    np.array(fea_a), \n",
    "                    np.array(title_a), \n",
    "                    np.array(tag_a), \n",
    "                    np.array(des_a)\n",
    "        ]\n",
    "        \n",
    "\n",
    "        yield X_combined, np.array(y_a)"
   ]
  },
  {
   "cell_type": "code",
   "execution_count": null,
   "metadata": {
    "id": "pAdIj-kFVi9n"
   },
   "outputs": [],
   "source": [
    "batch_size = 128\n",
    "train_data = generator(df_train, X_fea_train, train_title, train_tag, train_des, batch_size=batch_size)\n",
    "val_data = generator(df_val, X_fea_val, val_title, val_tag, val_des, batch_size=batch_size)"
   ]
  },
  {
   "cell_type": "code",
   "execution_count": 19,
   "metadata": {
    "colab": {
     "base_uri": "https://localhost:8080/"
    },
    "executionInfo": {
     "elapsed": 1527,
     "status": "ok",
     "timestamp": 1639668805858,
     "user": {
      "displayName": "Chien Yuan Chang",
      "photoUrl": "https://lh3.googleusercontent.com/a-/AOh14Gh-ZoTW8dc2VTtzRDYgaNQ1fpjQNTp7RWhLtJPm=s64",
      "userId": "11770959240224415572"
     },
     "user_tz": 480
    },
    "id": "p3Mz3_n9lEkZ",
    "outputId": "d414c5b0-5028-4b98-9634-b5c8ef4dd47b"
   },
   "outputs": [
    {
     "name": "stdout",
     "output_type": "stream",
     "text": [
      "Downloading data from https://storage.googleapis.com/tensorflow/keras-applications/mobilenet_v2/mobilenet_v2_weights_tf_dim_ordering_tf_kernels_1.0_224_no_top.h5\n",
      "9412608/9406464 [==============================] - 0s 0us/step\n",
      "9420800/9406464 [==============================] - 0s 0us/step\n",
      "WARNING:tensorflow:Layer lstm will not use cuDNN kernels since it doesn't meet the criteria. It will use a generic GPU kernel as fallback when running on GPU.\n",
      "WARNING:tensorflow:Layer lstm will not use cuDNN kernels since it doesn't meet the criteria. It will use a generic GPU kernel as fallback when running on GPU.\n",
      "WARNING:tensorflow:Layer lstm will not use cuDNN kernels since it doesn't meet the criteria. It will use a generic GPU kernel as fallback when running on GPU.\n",
      "Model: \"model_5\"\n",
      "__________________________________________________________________________________________________\n",
      " Layer (type)                   Output Shape         Param #     Connected to                     \n",
      "==================================================================================================\n",
      " input_1 (InputLayer)           [(None, 224, 224, 3  0           []                               \n",
      "                                )]                                                                \n",
      "                                                                                                  \n",
      " Conv1 (Conv2D)                 (None, 112, 112, 32  864         ['input_1[0][0]']                \n",
      "                                )                                                                 \n",
      "                                                                                                  \n",
      " bn_Conv1 (BatchNormalization)  (None, 112, 112, 32  128         ['Conv1[0][0]']                  \n",
      "                                )                                                                 \n",
      "                                                                                                  \n",
      " Conv1_relu (ReLU)              (None, 112, 112, 32  0           ['bn_Conv1[0][0]']               \n",
      "                                )                                                                 \n",
      "                                                                                                  \n",
      " expanded_conv_depthwise (Depth  (None, 112, 112, 32  288        ['Conv1_relu[0][0]']             \n",
      " wiseConv2D)                    )                                                                 \n",
      "                                                                                                  \n",
      " expanded_conv_depthwise_BN (Ba  (None, 112, 112, 32  128        ['expanded_conv_depthwise[0][0]']\n",
      " tchNormalization)              )                                                                 \n",
      "                                                                                                  \n",
      " expanded_conv_depthwise_relu (  (None, 112, 112, 32  0          ['expanded_conv_depthwise_BN[0][0\n",
      " ReLU)                          )                                ]']                              \n",
      "                                                                                                  \n",
      " expanded_conv_project (Conv2D)  (None, 112, 112, 16  512        ['expanded_conv_depthwise_relu[0]\n",
      "                                )                                [0]']                            \n",
      "                                                                                                  \n",
      " expanded_conv_project_BN (Batc  (None, 112, 112, 16  64         ['expanded_conv_project[0][0]']  \n",
      " hNormalization)                )                                                                 \n",
      "                                                                                                  \n",
      " block_1_expand (Conv2D)        (None, 112, 112, 96  1536        ['expanded_conv_project_BN[0][0]'\n",
      "                                )                                ]                                \n",
      "                                                                                                  \n",
      " block_1_expand_BN (BatchNormal  (None, 112, 112, 96  384        ['block_1_expand[0][0]']         \n",
      " ization)                       )                                                                 \n",
      "                                                                                                  \n",
      " block_1_expand_relu (ReLU)     (None, 112, 112, 96  0           ['block_1_expand_BN[0][0]']      \n",
      "                                )                                                                 \n",
      "                                                                                                  \n",
      " block_1_pad (ZeroPadding2D)    (None, 113, 113, 96  0           ['block_1_expand_relu[0][0]']    \n",
      "                                )                                                                 \n",
      "                                                                                                  \n",
      " block_1_depthwise (DepthwiseCo  (None, 56, 56, 96)  864         ['block_1_pad[0][0]']            \n",
      " nv2D)                                                                                            \n",
      "                                                                                                  \n",
      " block_1_depthwise_BN (BatchNor  (None, 56, 56, 96)  384         ['block_1_depthwise[0][0]']      \n",
      " malization)                                                                                      \n",
      "                                                                                                  \n",
      " block_1_depthwise_relu (ReLU)  (None, 56, 56, 96)   0           ['block_1_depthwise_BN[0][0]']   \n",
      "                                                                                                  \n",
      " block_1_project (Conv2D)       (None, 56, 56, 24)   2304        ['block_1_depthwise_relu[0][0]'] \n",
      "                                                                                                  \n",
      " block_1_project_BN (BatchNorma  (None, 56, 56, 24)  96          ['block_1_project[0][0]']        \n",
      " lization)                                                                                        \n",
      "                                                                                                  \n",
      " block_2_expand (Conv2D)        (None, 56, 56, 144)  3456        ['block_1_project_BN[0][0]']     \n",
      "                                                                                                  \n",
      " block_2_expand_BN (BatchNormal  (None, 56, 56, 144)  576        ['block_2_expand[0][0]']         \n",
      " ization)                                                                                         \n",
      "                                                                                                  \n",
      " block_2_expand_relu (ReLU)     (None, 56, 56, 144)  0           ['block_2_expand_BN[0][0]']      \n",
      "                                                                                                  \n",
      " block_2_depthwise (DepthwiseCo  (None, 56, 56, 144)  1296       ['block_2_expand_relu[0][0]']    \n",
      " nv2D)                                                                                            \n",
      "                                                                                                  \n",
      " block_2_depthwise_BN (BatchNor  (None, 56, 56, 144)  576        ['block_2_depthwise[0][0]']      \n",
      " malization)                                                                                      \n",
      "                                                                                                  \n",
      " block_2_depthwise_relu (ReLU)  (None, 56, 56, 144)  0           ['block_2_depthwise_BN[0][0]']   \n",
      "                                                                                                  \n",
      " block_2_project (Conv2D)       (None, 56, 56, 24)   3456        ['block_2_depthwise_relu[0][0]'] \n",
      "                                                                                                  \n",
      " block_2_project_BN (BatchNorma  (None, 56, 56, 24)  96          ['block_2_project[0][0]']        \n",
      " lization)                                                                                        \n",
      "                                                                                                  \n",
      " block_2_add (Add)              (None, 56, 56, 24)   0           ['block_1_project_BN[0][0]',     \n",
      "                                                                  'block_2_project_BN[0][0]']     \n",
      "                                                                                                  \n",
      " block_3_expand (Conv2D)        (None, 56, 56, 144)  3456        ['block_2_add[0][0]']            \n",
      "                                                                                                  \n",
      " block_3_expand_BN (BatchNormal  (None, 56, 56, 144)  576        ['block_3_expand[0][0]']         \n",
      " ization)                                                                                         \n",
      "                                                                                                  \n",
      " block_3_expand_relu (ReLU)     (None, 56, 56, 144)  0           ['block_3_expand_BN[0][0]']      \n",
      "                                                                                                  \n",
      " block_3_pad (ZeroPadding2D)    (None, 57, 57, 144)  0           ['block_3_expand_relu[0][0]']    \n",
      "                                                                                                  \n",
      " block_3_depthwise (DepthwiseCo  (None, 28, 28, 144)  1296       ['block_3_pad[0][0]']            \n",
      " nv2D)                                                                                            \n",
      "                                                                                                  \n",
      " block_3_depthwise_BN (BatchNor  (None, 28, 28, 144)  576        ['block_3_depthwise[0][0]']      \n",
      " malization)                                                                                      \n",
      "                                                                                                  \n",
      " block_3_depthwise_relu (ReLU)  (None, 28, 28, 144)  0           ['block_3_depthwise_BN[0][0]']   \n",
      "                                                                                                  \n",
      " block_3_project (Conv2D)       (None, 28, 28, 32)   4608        ['block_3_depthwise_relu[0][0]'] \n",
      "                                                                                                  \n",
      " block_3_project_BN (BatchNorma  (None, 28, 28, 32)  128         ['block_3_project[0][0]']        \n",
      " lization)                                                                                        \n",
      "                                                                                                  \n",
      " block_4_expand (Conv2D)        (None, 28, 28, 192)  6144        ['block_3_project_BN[0][0]']     \n",
      "                                                                                                  \n",
      " block_4_expand_BN (BatchNormal  (None, 28, 28, 192)  768        ['block_4_expand[0][0]']         \n",
      " ization)                                                                                         \n",
      "                                                                                                  \n",
      " block_4_expand_relu (ReLU)     (None, 28, 28, 192)  0           ['block_4_expand_BN[0][0]']      \n",
      "                                                                                                  \n",
      " block_4_depthwise (DepthwiseCo  (None, 28, 28, 192)  1728       ['block_4_expand_relu[0][0]']    \n",
      " nv2D)                                                                                            \n",
      "                                                                                                  \n",
      " block_4_depthwise_BN (BatchNor  (None, 28, 28, 192)  768        ['block_4_depthwise[0][0]']      \n",
      " malization)                                                                                      \n",
      "                                                                                                  \n",
      " block_4_depthwise_relu (ReLU)  (None, 28, 28, 192)  0           ['block_4_depthwise_BN[0][0]']   \n",
      "                                                                                                  \n",
      " block_4_project (Conv2D)       (None, 28, 28, 32)   6144        ['block_4_depthwise_relu[0][0]'] \n",
      "                                                                                                  \n",
      " block_4_project_BN (BatchNorma  (None, 28, 28, 32)  128         ['block_4_project[0][0]']        \n",
      " lization)                                                                                        \n",
      "                                                                                                  \n",
      " block_4_add (Add)              (None, 28, 28, 32)   0           ['block_3_project_BN[0][0]',     \n",
      "                                                                  'block_4_project_BN[0][0]']     \n",
      "                                                                                                  \n",
      " block_5_expand (Conv2D)        (None, 28, 28, 192)  6144        ['block_4_add[0][0]']            \n",
      "                                                                                                  \n",
      " block_5_expand_BN (BatchNormal  (None, 28, 28, 192)  768        ['block_5_expand[0][0]']         \n",
      " ization)                                                                                         \n",
      "                                                                                                  \n",
      " block_5_expand_relu (ReLU)     (None, 28, 28, 192)  0           ['block_5_expand_BN[0][0]']      \n",
      "                                                                                                  \n",
      " block_5_depthwise (DepthwiseCo  (None, 28, 28, 192)  1728       ['block_5_expand_relu[0][0]']    \n",
      " nv2D)                                                                                            \n",
      "                                                                                                  \n",
      " block_5_depthwise_BN (BatchNor  (None, 28, 28, 192)  768        ['block_5_depthwise[0][0]']      \n",
      " malization)                                                                                      \n",
      "                                                                                                  \n",
      " block_5_depthwise_relu (ReLU)  (None, 28, 28, 192)  0           ['block_5_depthwise_BN[0][0]']   \n",
      "                                                                                                  \n",
      " block_5_project (Conv2D)       (None, 28, 28, 32)   6144        ['block_5_depthwise_relu[0][0]'] \n",
      "                                                                                                  \n",
      " block_5_project_BN (BatchNorma  (None, 28, 28, 32)  128         ['block_5_project[0][0]']        \n",
      " lization)                                                                                        \n",
      "                                                                                                  \n",
      " block_5_add (Add)              (None, 28, 28, 32)   0           ['block_4_add[0][0]',            \n",
      "                                                                  'block_5_project_BN[0][0]']     \n",
      "                                                                                                  \n",
      " block_6_expand (Conv2D)        (None, 28, 28, 192)  6144        ['block_5_add[0][0]']            \n",
      "                                                                                                  \n",
      " block_6_expand_BN (BatchNormal  (None, 28, 28, 192)  768        ['block_6_expand[0][0]']         \n",
      " ization)                                                                                         \n",
      "                                                                                                  \n",
      " block_6_expand_relu (ReLU)     (None, 28, 28, 192)  0           ['block_6_expand_BN[0][0]']      \n",
      "                                                                                                  \n",
      " block_6_pad (ZeroPadding2D)    (None, 29, 29, 192)  0           ['block_6_expand_relu[0][0]']    \n",
      "                                                                                                  \n",
      " block_6_depthwise (DepthwiseCo  (None, 14, 14, 192)  1728       ['block_6_pad[0][0]']            \n",
      " nv2D)                                                                                            \n",
      "                                                                                                  \n",
      " block_6_depthwise_BN (BatchNor  (None, 14, 14, 192)  768        ['block_6_depthwise[0][0]']      \n",
      " malization)                                                                                      \n",
      "                                                                                                  \n",
      " block_6_depthwise_relu (ReLU)  (None, 14, 14, 192)  0           ['block_6_depthwise_BN[0][0]']   \n",
      "                                                                                                  \n",
      " block_6_project (Conv2D)       (None, 14, 14, 64)   12288       ['block_6_depthwise_relu[0][0]'] \n",
      "                                                                                                  \n",
      " block_6_project_BN (BatchNorma  (None, 14, 14, 64)  256         ['block_6_project[0][0]']        \n",
      " lization)                                                                                        \n",
      "                                                                                                  \n",
      " block_7_expand (Conv2D)        (None, 14, 14, 384)  24576       ['block_6_project_BN[0][0]']     \n",
      "                                                                                                  \n",
      " block_7_expand_BN (BatchNormal  (None, 14, 14, 384)  1536       ['block_7_expand[0][0]']         \n",
      " ization)                                                                                         \n",
      "                                                                                                  \n",
      " block_7_expand_relu (ReLU)     (None, 14, 14, 384)  0           ['block_7_expand_BN[0][0]']      \n",
      "                                                                                                  \n",
      " block_7_depthwise (DepthwiseCo  (None, 14, 14, 384)  3456       ['block_7_expand_relu[0][0]']    \n",
      " nv2D)                                                                                            \n",
      "                                                                                                  \n",
      " block_7_depthwise_BN (BatchNor  (None, 14, 14, 384)  1536       ['block_7_depthwise[0][0]']      \n",
      " malization)                                                                                      \n",
      "                                                                                                  \n",
      " block_7_depthwise_relu (ReLU)  (None, 14, 14, 384)  0           ['block_7_depthwise_BN[0][0]']   \n",
      "                                                                                                  \n",
      " block_7_project (Conv2D)       (None, 14, 14, 64)   24576       ['block_7_depthwise_relu[0][0]'] \n",
      "                                                                                                  \n",
      " block_7_project_BN (BatchNorma  (None, 14, 14, 64)  256         ['block_7_project[0][0]']        \n",
      " lization)                                                                                        \n",
      "                                                                                                  \n",
      " block_7_add (Add)              (None, 14, 14, 64)   0           ['block_6_project_BN[0][0]',     \n",
      "                                                                  'block_7_project_BN[0][0]']     \n",
      "                                                                                                  \n",
      " block_8_expand (Conv2D)        (None, 14, 14, 384)  24576       ['block_7_add[0][0]']            \n",
      "                                                                                                  \n",
      " block_8_expand_BN (BatchNormal  (None, 14, 14, 384)  1536       ['block_8_expand[0][0]']         \n",
      " ization)                                                                                         \n",
      "                                                                                                  \n",
      " block_8_expand_relu (ReLU)     (None, 14, 14, 384)  0           ['block_8_expand_BN[0][0]']      \n",
      "                                                                                                  \n",
      " block_8_depthwise (DepthwiseCo  (None, 14, 14, 384)  3456       ['block_8_expand_relu[0][0]']    \n",
      " nv2D)                                                                                            \n",
      "                                                                                                  \n",
      " block_8_depthwise_BN (BatchNor  (None, 14, 14, 384)  1536       ['block_8_depthwise[0][0]']      \n",
      " malization)                                                                                      \n",
      "                                                                                                  \n",
      " block_8_depthwise_relu (ReLU)  (None, 14, 14, 384)  0           ['block_8_depthwise_BN[0][0]']   \n",
      "                                                                                                  \n",
      " block_8_project (Conv2D)       (None, 14, 14, 64)   24576       ['block_8_depthwise_relu[0][0]'] \n",
      "                                                                                                  \n",
      " block_8_project_BN (BatchNorma  (None, 14, 14, 64)  256         ['block_8_project[0][0]']        \n",
      " lization)                                                                                        \n",
      "                                                                                                  \n",
      " block_8_add (Add)              (None, 14, 14, 64)   0           ['block_7_add[0][0]',            \n",
      "                                                                  'block_8_project_BN[0][0]']     \n",
      "                                                                                                  \n",
      " block_9_expand (Conv2D)        (None, 14, 14, 384)  24576       ['block_8_add[0][0]']            \n",
      "                                                                                                  \n",
      " block_9_expand_BN (BatchNormal  (None, 14, 14, 384)  1536       ['block_9_expand[0][0]']         \n",
      " ization)                                                                                         \n",
      "                                                                                                  \n",
      " block_9_expand_relu (ReLU)     (None, 14, 14, 384)  0           ['block_9_expand_BN[0][0]']      \n",
      "                                                                                                  \n",
      " block_9_depthwise (DepthwiseCo  (None, 14, 14, 384)  3456       ['block_9_expand_relu[0][0]']    \n",
      " nv2D)                                                                                            \n",
      "                                                                                                  \n",
      " block_9_depthwise_BN (BatchNor  (None, 14, 14, 384)  1536       ['block_9_depthwise[0][0]']      \n",
      " malization)                                                                                      \n",
      "                                                                                                  \n",
      " block_9_depthwise_relu (ReLU)  (None, 14, 14, 384)  0           ['block_9_depthwise_BN[0][0]']   \n",
      "                                                                                                  \n",
      " block_9_project (Conv2D)       (None, 14, 14, 64)   24576       ['block_9_depthwise_relu[0][0]'] \n",
      "                                                                                                  \n",
      " block_9_project_BN (BatchNorma  (None, 14, 14, 64)  256         ['block_9_project[0][0]']        \n",
      " lization)                                                                                        \n",
      "                                                                                                  \n",
      " block_9_add (Add)              (None, 14, 14, 64)   0           ['block_8_add[0][0]',            \n",
      "                                                                  'block_9_project_BN[0][0]']     \n",
      "                                                                                                  \n",
      " block_10_expand (Conv2D)       (None, 14, 14, 384)  24576       ['block_9_add[0][0]']            \n",
      "                                                                                                  \n",
      " block_10_expand_BN (BatchNorma  (None, 14, 14, 384)  1536       ['block_10_expand[0][0]']        \n",
      " lization)                                                                                        \n",
      "                                                                                                  \n",
      " block_10_expand_relu (ReLU)    (None, 14, 14, 384)  0           ['block_10_expand_BN[0][0]']     \n",
      "                                                                                                  \n",
      " block_10_depthwise (DepthwiseC  (None, 14, 14, 384)  3456       ['block_10_expand_relu[0][0]']   \n",
      " onv2D)                                                                                           \n",
      "                                                                                                  \n",
      " block_10_depthwise_BN (BatchNo  (None, 14, 14, 384)  1536       ['block_10_depthwise[0][0]']     \n",
      " rmalization)                                                                                     \n",
      "                                                                                                  \n",
      " block_10_depthwise_relu (ReLU)  (None, 14, 14, 384)  0          ['block_10_depthwise_BN[0][0]']  \n",
      "                                                                                                  \n",
      " block_10_project (Conv2D)      (None, 14, 14, 96)   36864       ['block_10_depthwise_relu[0][0]']\n",
      "                                                                                                  \n",
      " block_10_project_BN (BatchNorm  (None, 14, 14, 96)  384         ['block_10_project[0][0]']       \n",
      " alization)                                                                                       \n",
      "                                                                                                  \n",
      " block_11_expand (Conv2D)       (None, 14, 14, 576)  55296       ['block_10_project_BN[0][0]']    \n",
      "                                                                                                  \n",
      " block_11_expand_BN (BatchNorma  (None, 14, 14, 576)  2304       ['block_11_expand[0][0]']        \n",
      " lization)                                                                                        \n",
      "                                                                                                  \n",
      " block_11_expand_relu (ReLU)    (None, 14, 14, 576)  0           ['block_11_expand_BN[0][0]']     \n",
      "                                                                                                  \n",
      " block_11_depthwise (DepthwiseC  (None, 14, 14, 576)  5184       ['block_11_expand_relu[0][0]']   \n",
      " onv2D)                                                                                           \n",
      "                                                                                                  \n",
      " block_11_depthwise_BN (BatchNo  (None, 14, 14, 576)  2304       ['block_11_depthwise[0][0]']     \n",
      " rmalization)                                                                                     \n",
      "                                                                                                  \n",
      " block_11_depthwise_relu (ReLU)  (None, 14, 14, 576)  0          ['block_11_depthwise_BN[0][0]']  \n",
      "                                                                                                  \n",
      " block_11_project (Conv2D)      (None, 14, 14, 96)   55296       ['block_11_depthwise_relu[0][0]']\n",
      "                                                                                                  \n",
      " block_11_project_BN (BatchNorm  (None, 14, 14, 96)  384         ['block_11_project[0][0]']       \n",
      " alization)                                                                                       \n",
      "                                                                                                  \n",
      " block_11_add (Add)             (None, 14, 14, 96)   0           ['block_10_project_BN[0][0]',    \n",
      "                                                                  'block_11_project_BN[0][0]']    \n",
      "                                                                                                  \n",
      " block_12_expand (Conv2D)       (None, 14, 14, 576)  55296       ['block_11_add[0][0]']           \n",
      "                                                                                                  \n",
      " block_12_expand_BN (BatchNorma  (None, 14, 14, 576)  2304       ['block_12_expand[0][0]']        \n",
      " lization)                                                                                        \n",
      "                                                                                                  \n",
      " block_12_expand_relu (ReLU)    (None, 14, 14, 576)  0           ['block_12_expand_BN[0][0]']     \n",
      "                                                                                                  \n",
      " block_12_depthwise (DepthwiseC  (None, 14, 14, 576)  5184       ['block_12_expand_relu[0][0]']   \n",
      " onv2D)                                                                                           \n",
      "                                                                                                  \n",
      " block_12_depthwise_BN (BatchNo  (None, 14, 14, 576)  2304       ['block_12_depthwise[0][0]']     \n",
      " rmalization)                                                                                     \n",
      "                                                                                                  \n",
      " block_12_depthwise_relu (ReLU)  (None, 14, 14, 576)  0          ['block_12_depthwise_BN[0][0]']  \n",
      "                                                                                                  \n",
      " block_12_project (Conv2D)      (None, 14, 14, 96)   55296       ['block_12_depthwise_relu[0][0]']\n",
      "                                                                                                  \n",
      " block_12_project_BN (BatchNorm  (None, 14, 14, 96)  384         ['block_12_project[0][0]']       \n",
      " alization)                                                                                       \n",
      "                                                                                                  \n",
      " block_12_add (Add)             (None, 14, 14, 96)   0           ['block_11_add[0][0]',           \n",
      "                                                                  'block_12_project_BN[0][0]']    \n",
      "                                                                                                  \n",
      " block_13_expand (Conv2D)       (None, 14, 14, 576)  55296       ['block_12_add[0][0]']           \n",
      "                                                                                                  \n",
      " block_13_expand_BN (BatchNorma  (None, 14, 14, 576)  2304       ['block_13_expand[0][0]']        \n",
      " lization)                                                                                        \n",
      "                                                                                                  \n",
      " block_13_expand_relu (ReLU)    (None, 14, 14, 576)  0           ['block_13_expand_BN[0][0]']     \n",
      "                                                                                                  \n",
      " block_13_pad (ZeroPadding2D)   (None, 15, 15, 576)  0           ['block_13_expand_relu[0][0]']   \n",
      "                                                                                                  \n",
      " block_13_depthwise (DepthwiseC  (None, 7, 7, 576)   5184        ['block_13_pad[0][0]']           \n",
      " onv2D)                                                                                           \n",
      "                                                                                                  \n",
      " block_13_depthwise_BN (BatchNo  (None, 7, 7, 576)   2304        ['block_13_depthwise[0][0]']     \n",
      " rmalization)                                                                                     \n",
      "                                                                                                  \n",
      " block_13_depthwise_relu (ReLU)  (None, 7, 7, 576)   0           ['block_13_depthwise_BN[0][0]']  \n",
      "                                                                                                  \n",
      " block_13_project (Conv2D)      (None, 7, 7, 160)    92160       ['block_13_depthwise_relu[0][0]']\n",
      "                                                                                                  \n",
      " block_13_project_BN (BatchNorm  (None, 7, 7, 160)   640         ['block_13_project[0][0]']       \n",
      " alization)                                                                                       \n",
      "                                                                                                  \n",
      " block_14_expand (Conv2D)       (None, 7, 7, 960)    153600      ['block_13_project_BN[0][0]']    \n",
      "                                                                                                  \n",
      " block_14_expand_BN (BatchNorma  (None, 7, 7, 960)   3840        ['block_14_expand[0][0]']        \n",
      " lization)                                                                                        \n",
      "                                                                                                  \n",
      " block_14_expand_relu (ReLU)    (None, 7, 7, 960)    0           ['block_14_expand_BN[0][0]']     \n",
      "                                                                                                  \n",
      " block_14_depthwise (DepthwiseC  (None, 7, 7, 960)   8640        ['block_14_expand_relu[0][0]']   \n",
      " onv2D)                                                                                           \n",
      "                                                                                                  \n",
      " block_14_depthwise_BN (BatchNo  (None, 7, 7, 960)   3840        ['block_14_depthwise[0][0]']     \n",
      " rmalization)                                                                                     \n",
      "                                                                                                  \n",
      " block_14_depthwise_relu (ReLU)  (None, 7, 7, 960)   0           ['block_14_depthwise_BN[0][0]']  \n",
      "                                                                                                  \n",
      " block_14_project (Conv2D)      (None, 7, 7, 160)    153600      ['block_14_depthwise_relu[0][0]']\n",
      "                                                                                                  \n",
      " block_14_project_BN (BatchNorm  (None, 7, 7, 160)   640         ['block_14_project[0][0]']       \n",
      " alization)                                                                                       \n",
      "                                                                                                  \n",
      " block_14_add (Add)             (None, 7, 7, 160)    0           ['block_13_project_BN[0][0]',    \n",
      "                                                                  'block_14_project_BN[0][0]']    \n",
      "                                                                                                  \n",
      " block_15_expand (Conv2D)       (None, 7, 7, 960)    153600      ['block_14_add[0][0]']           \n",
      "                                                                                                  \n",
      " block_15_expand_BN (BatchNorma  (None, 7, 7, 960)   3840        ['block_15_expand[0][0]']        \n",
      " lization)                                                                                        \n",
      "                                                                                                  \n",
      " block_15_expand_relu (ReLU)    (None, 7, 7, 960)    0           ['block_15_expand_BN[0][0]']     \n",
      "                                                                                                  \n",
      " block_15_depthwise (DepthwiseC  (None, 7, 7, 960)   8640        ['block_15_expand_relu[0][0]']   \n",
      " onv2D)                                                                                           \n",
      "                                                                                                  \n",
      " block_15_depthwise_BN (BatchNo  (None, 7, 7, 960)   3840        ['block_15_depthwise[0][0]']     \n",
      " rmalization)                                                                                     \n",
      "                                                                                                  \n",
      " block_15_depthwise_relu (ReLU)  (None, 7, 7, 960)   0           ['block_15_depthwise_BN[0][0]']  \n",
      "                                                                                                  \n",
      " block_15_project (Conv2D)      (None, 7, 7, 160)    153600      ['block_15_depthwise_relu[0][0]']\n",
      "                                                                                                  \n",
      " block_15_project_BN (BatchNorm  (None, 7, 7, 160)   640         ['block_15_project[0][0]']       \n",
      " alization)                                                                                       \n",
      "                                                                                                  \n",
      " block_15_add (Add)             (None, 7, 7, 160)    0           ['block_14_add[0][0]',           \n",
      "                                                                  'block_15_project_BN[0][0]']    \n",
      "                                                                                                  \n",
      " block_16_expand (Conv2D)       (None, 7, 7, 960)    153600      ['block_15_add[0][0]']           \n",
      "                                                                                                  \n",
      " block_16_expand_BN (BatchNorma  (None, 7, 7, 960)   3840        ['block_16_expand[0][0]']        \n",
      " lization)                                                                                        \n",
      "                                                                                                  \n",
      " block_16_expand_relu (ReLU)    (None, 7, 7, 960)    0           ['block_16_expand_BN[0][0]']     \n",
      "                                                                                                  \n",
      " block_16_depthwise (DepthwiseC  (None, 7, 7, 960)   8640        ['block_16_expand_relu[0][0]']   \n",
      " onv2D)                                                                                           \n",
      "                                                                                                  \n",
      " block_16_depthwise_BN (BatchNo  (None, 7, 7, 960)   3840        ['block_16_depthwise[0][0]']     \n",
      " rmalization)                                                                                     \n",
      "                                                                                                  \n",
      " block_16_depthwise_relu (ReLU)  (None, 7, 7, 960)   0           ['block_16_depthwise_BN[0][0]']  \n",
      "                                                                                                  \n",
      " block_16_project (Conv2D)      (None, 7, 7, 320)    307200      ['block_16_depthwise_relu[0][0]']\n",
      "                                                                                                  \n",
      " block_16_project_BN (BatchNorm  (None, 7, 7, 320)   1280        ['block_16_project[0][0]']       \n",
      " alization)                                                                                       \n",
      "                                                                                                  \n",
      " Conv_1 (Conv2D)                (None, 7, 7, 1280)   409600      ['block_16_project_BN[0][0]']    \n",
      "                                                                                                  \n",
      " input_5 (InputLayer)           [(None, 765)]        0           []                               \n",
      "                                                                                                  \n",
      " Conv_1_bn (BatchNormalization)  (None, 7, 7, 1280)  5120        ['Conv_1[0][0]']                 \n",
      "                                                                                                  \n",
      " input_3 (InputLayer)           [(None, 22)]         0           []                               \n",
      "                                                                                                  \n",
      " input_4 (InputLayer)           [(None, 105)]        0           []                               \n",
      "                                                                                                  \n",
      " embedding_2 (Embedding)        (None, 765, 64)      1280000     ['input_5[0][0]']                \n",
      "                                                                                                  \n",
      " out_relu (ReLU)                (None, 7, 7, 1280)   0           ['Conv_1_bn[0][0]']              \n",
      "                                                                                                  \n",
      " input_2 (InputLayer)           [(None, 27)]         0           []                               \n",
      "                                                                                                  \n",
      " embedding (Embedding)          (None, 22, 64)       640000      ['input_3[0][0]']                \n",
      "                                                                                                  \n",
      " embedding_1 (Embedding)        (None, 105, 64)      320000      ['input_4[0][0]']                \n",
      "                                                                                                  \n",
      " conv1d (Conv1D)                (None, 761, 16)      5136        ['embedding_2[0][0]']            \n",
      "                                                                                                  \n",
      " flatten (Flatten)              (None, 62720)        0           ['out_relu[0][0]']               \n",
      "                                                                                                  \n",
      " dense_1 (Dense)                (None, 32)           896         ['input_2[0][0]']                \n",
      "                                                                                                  \n",
      " flatten_1 (Flatten)            (None, 1408)         0           ['embedding[0][0]']              \n",
      "                                                                                                  \n",
      " flatten_2 (Flatten)            (None, 6720)         0           ['embedding_1[0][0]']            \n",
      "                                                                                                  \n",
      " max_pooling1d (MaxPooling1D)   (None, 380, 16)      0           ['conv1d[0][0]']                 \n",
      "                                                                                                  \n",
      " dense (Dense)                  (None, 64)           4014144     ['flatten[0][0]']                \n",
      "                                                                                                  \n",
      " dense_2 (Dense)                (None, 64)           2112        ['dense_1[0][0]']                \n",
      "                                                                                                  \n",
      " dense_3 (Dense)                (None, 64)           90176       ['flatten_1[0][0]']              \n",
      "                                                                                                  \n",
      " dense_4 (Dense)                (None, 64)           430144      ['flatten_2[0][0]']              \n",
      "                                                                                                  \n",
      " bidirectional (Bidirectional)  (None, 64)           12544       ['max_pooling1d[0][0]']          \n",
      "                                                                                                  \n",
      " concatenate (Concatenate)      (None, 320)          0           ['dense[0][0]',                  \n",
      "                                                                  'dense_2[0][0]',                \n",
      "                                                                  'dense_3[0][0]',                \n",
      "                                                                  'dense_4[0][0]',                \n",
      "                                                                  'bidirectional[0][0]']          \n",
      "                                                                                                  \n",
      " dense_5 (Dense)                (None, 128)          41088       ['concatenate[0][0]']            \n",
      "                                                                                                  \n",
      " dropout (Dropout)              (None, 128)          0           ['dense_5[0][0]']                \n",
      "                                                                                                  \n",
      " dense_6 (Dense)                (None, 64)           8256        ['dropout[0][0]']                \n",
      "                                                                                                  \n",
      " dense_7 (Dense)                (None, 1)            65          ['dense_6[0][0]']                \n",
      "                                                                                                  \n",
      "==================================================================================================\n",
      "Total params: 9,102,545\n",
      "Trainable params: 6,844,561\n",
      "Non-trainable params: 2,257,984\n",
      "__________________________________________________________________________________________________\n"
     ]
    }
   ],
   "source": [
    "# define inputs\n",
    "inputa = mobilenet_v2.MobileNetV2(weights='imagenet', include_top=False, input_shape=(224,224,3)) \n",
    "inputb = Input(shape=(len(features),))\n",
    "inputc = Input(shape=(title_maxlen,))\n",
    "inputd = Input(shape=(tag_maxlen,))\n",
    "inpute = Input(shape=(des_maxlen,))\n",
    "\n",
    "# image branch\n",
    "for layer in inputa.layers:\n",
    "    layer.trainable = False\n",
    "a = inputa.output\n",
    "a = Flatten()(a)\n",
    "a = Dense(64, activation=\"relu\")(a)\n",
    "a = Model(inputs=inputa.input, outputs=a)\n",
    "\n",
    "# features branch\n",
    "b = Dense(32, activation=\"relu\")(inputb)\n",
    "b = Dense(64, activation=\"relu\")(b)\n",
    "#b = Dropout(0.05)(b)\n",
    "#b = Dense(1024, activation=\"relu\")(b)\n",
    "b = Model(inputs=inputb, outputs=b)\n",
    "\n",
    "# title branch\n",
    "c = Embedding(input_dim=title_num_words, output_dim=64)(inputc)\n",
    "c = Flatten()(c)\n",
    "c = Dense(64, activation=\"relu\")(c)\n",
    "c = Model(inputs=inputc, outputs=c)\n",
    "\n",
    "# tag branch\n",
    "d = Embedding(input_dim=tag_num_words, output_dim=64)(inputd)\n",
    "d = Flatten()(d)\n",
    "d = Dense(64, activation=\"relu\")(d)\n",
    "d = Model(inputs=inputd, outputs=d)\n",
    "\n",
    "# description branch\n",
    "e = Embedding(input_dim=des_num_words, output_dim=64)(inpute)\n",
    "e = Convolution1D(filters=16, kernel_size=5, activation='relu')(e)\n",
    "e = MaxPooling1D()(e)\n",
    "e = Bidirectional(LSTM(32, recurrent_dropout=.1))(e)\n",
    "#e = Dense(512, activation=\"relu\")(e)\n",
    "e = Model(inputs=inpute, outputs=e)\n",
    "\n",
    "# combined outputs\n",
    "combined = concatenate([a.output, b.output, c.output, d.output, e.output])\n",
    "x = Dense(128, activation=\"relu\")(combined)\n",
    "x = Dropout(0.05)(x)\n",
    "x = Dense(64, activation=\"relu\")(x)\n",
    "#x = Dropout(0.05)(x)\n",
    "#x = Dense(512, activation=\"relu\")(x)\n",
    "x = Dense(1, activation=\"linear\")(x)\n",
    "# our model will accept the inputs of the two branches and\n",
    "# then output a single value\n",
    "model = Model(inputs=[a.input, b.input, c.input, d.input, e.input], outputs=x)\n",
    "model.compile(keras.optimizers.Adam(learning_rate=0.0001), loss='mse', metrics=[keras.metrics.MeanAbsoluteError()])\n",
    "model.summary()"
   ]
  },
  {
   "cell_type": "markdown",
   "metadata": {
    "id": "3g60pJoE1x35"
   },
   "source": [
    "# 5 branches with daily views as label"
   ]
  },
  {
   "cell_type": "code",
   "execution_count": 20,
   "metadata": {
    "colab": {
     "base_uri": "https://localhost:8080/"
    },
    "executionInfo": {
     "elapsed": 6649,
     "status": "ok",
     "timestamp": 1639628222473,
     "user": {
      "displayName": "Chien Yuan Chang",
      "photoUrl": "https://lh3.googleusercontent.com/a-/AOh14Gh-ZoTW8dc2VTtzRDYgaNQ1fpjQNTp7RWhLtJPm=s64",
      "userId": "11770959240224415572"
     },
     "user_tz": 480
    },
    "id": "am1MCoyF0Dv4",
    "outputId": "df6c73e1-666e-417c-b138-34bb8d9d0109"
   },
   "outputs": [
    {
     "name": "stdout",
     "output_type": "stream",
     "text": [
      "WARNING:tensorflow:Layer lstm_4 will not use cuDNN kernels since it doesn't meet the criteria. It will use a generic GPU kernel as fallback when running on GPU.\n",
      "WARNING:tensorflow:Layer lstm_4 will not use cuDNN kernels since it doesn't meet the criteria. It will use a generic GPU kernel as fallback when running on GPU.\n",
      "WARNING:tensorflow:Layer lstm_4 will not use cuDNN kernels since it doesn't meet the criteria. It will use a generic GPU kernel as fallback when running on GPU.\n"
     ]
    }
   ],
   "source": [
    "# load when crashed\n",
    "model = keras.models.load_model('/content/drive/MyDrive/youtube_model/dl_1215_5m_100_daily.h5')"
   ]
  },
  {
   "cell_type": "code",
   "execution_count": 46,
   "metadata": {
    "colab": {
     "base_uri": "https://localhost:8080/"
    },
    "executionInfo": {
     "elapsed": 571905,
     "status": "ok",
     "timestamp": 1639634636370,
     "user": {
      "displayName": "Chien Yuan Chang",
      "photoUrl": "https://lh3.googleusercontent.com/a-/AOh14Gh-ZoTW8dc2VTtzRDYgaNQ1fpjQNTp7RWhLtJPm=s64",
      "userId": "11770959240224415572"
     },
     "user_tz": 480
    },
    "id": "tz14GD0It4G6",
    "outputId": "4e4bedc4-d480-4755-b358-887277a2318c"
   },
   "outputs": [
    {
     "name": "stdout",
     "output_type": "stream",
     "text": [
      "197/197 [==============================] - 572s 3s/step - loss: 1.2672 - mean_absolute_error: 0.8456 - val_loss: 0.8048 - val_mean_absolute_error: 0.6767 - lr: 1.0000e-04\n"
     ]
    },
    {
     "data": {
      "text/plain": [
       "<keras.callbacks.History at 0x7f55cf922f90>"
      ]
     },
     "execution_count": 46,
     "metadata": {},
     "output_type": "execute_result"
    }
   ],
   "source": [
    "#5m\n",
    "model.fit(x = [images, X_fea_train, train_title, train_tag, train_des], y = df_train[label], epochs = 1, verbose = 1, batch_size =32,\n",
    "          validation_data = ([val_images, X_fea_val, val_title, val_tag, val_des], df_val[label]), \n",
    "          callbacks=[keras.callbacks.CSVLogger('training.log', separator=',', append=False),\n",
    "                      keras.callbacks.EarlyStopping(patience=9, verbose=1, restore_best_weights=True),\n",
    "                      keras.callbacks.ReduceLROnPlateau(factor=.5, patience=3, verbose=1)])"
   ]
  },
  {
   "cell_type": "code",
   "execution_count": 21,
   "metadata": {
    "colab": {
     "base_uri": "https://localhost:8080/"
    },
    "executionInfo": {
     "elapsed": 839,
     "status": "ok",
     "timestamp": 1639670654345,
     "user": {
      "displayName": "Chien Yuan Chang",
      "photoUrl": "https://lh3.googleusercontent.com/a-/AOh14Gh-ZoTW8dc2VTtzRDYgaNQ1fpjQNTp7RWhLtJPm=s64",
      "userId": "11770959240224415572"
     },
     "user_tz": 480
    },
    "id": "dDzgwEPPt6K2",
    "outputId": "392e15a6-85d5-4fbd-917b-90a885351e86"
   },
   "outputs": [
    {
     "name": "stderr",
     "output_type": "stream",
     "text": [
      "/usr/local/lib/python3.7/dist-packages/keras/engine/functional.py:1410: CustomMaskWarning: Custom mask layers require a config and must override get_config. When loading, the custom mask layer must be passed to the custom_objects argument.\n",
      "  layer_config = serialize_layer_fn(layer)\n"
     ]
    }
   ],
   "source": [
    "model.save(\"/content/drive/MyDrive/youtube_model/dl_1215_5m_100_log_daily.h5\")"
   ]
  },
  {
   "cell_type": "code",
   "execution_count": 20,
   "metadata": {
    "colab": {
     "base_uri": "https://localhost:8080/",
     "height": 609
    },
    "executionInfo": {
     "elapsed": 1846328,
     "status": "error",
     "timestamp": 1639670652184,
     "user": {
      "displayName": "Chien Yuan Chang",
      "photoUrl": "https://lh3.googleusercontent.com/a-/AOh14Gh-ZoTW8dc2VTtzRDYgaNQ1fpjQNTp7RWhLtJPm=s64",
      "userId": "11770959240224415572"
     },
     "user_tz": 480
    },
    "id": "Gt9KZs0DcPxV",
    "outputId": "1c5a90fa-f5d5-46ac-c0f2-bee32020fe33",
    "scrolled": true
   },
   "outputs": [
    {
     "name": "stdout",
     "output_type": "stream",
     "text": [
      "Epoch 1/20\n",
      "197/197 [==============================] - 384s 2s/step - loss: 2.7606 - mean_absolute_error: 1.3118 - val_loss: 1.8759 - val_mean_absolute_error: 1.1072 - lr: 1.0000e-04\n",
      "Epoch 2/20\n",
      "197/197 [==============================] - 360s 2s/step - loss: 1.5422 - mean_absolute_error: 0.9914 - val_loss: 1.9072 - val_mean_absolute_error: 1.1268 - lr: 1.0000e-04\n",
      "Epoch 3/20\n",
      "197/197 [==============================] - 360s 2s/step - loss: 0.8663 - mean_absolute_error: 0.7279 - val_loss: 1.6599 - val_mean_absolute_error: 1.0132 - lr: 1.0000e-04\n",
      "Epoch 4/20\n",
      "197/197 [==============================] - 362s 2s/step - loss: 0.4528 - mean_absolute_error: 0.5255 - val_loss: 1.6271 - val_mean_absolute_error: 0.9777 - lr: 1.0000e-04\n",
      "Epoch 5/20\n",
      "197/197 [==============================] - 363s 2s/step - loss: 0.2779 - mean_absolute_error: 0.4115 - val_loss: 1.5830 - val_mean_absolute_error: 0.9640 - lr: 1.0000e-04\n",
      "Epoch 6/20\n",
      "  8/197 [>.............................] - ETA: 5:33 - loss: 0.2195 - mean_absolute_error: 0.3632"
     ]
    },
    {
     "ename": "KeyboardInterrupt",
     "evalue": "ignored",
     "output_type": "error",
     "traceback": [
      "\u001b[0;31m---------------------------------------------------------------------------\u001b[0m",
      "\u001b[0;31mKeyboardInterrupt\u001b[0m                         Traceback (most recent call last)",
      "\u001b[0;32m<ipython-input-20-4f0812d9249b>\u001b[0m in \u001b[0;36m<module>\u001b[0;34m()\u001b[0m\n\u001b[1;32m      4\u001b[0m           callbacks=[keras.callbacks.CSVLogger('training.log', separator=',', append=False),\n\u001b[1;32m      5\u001b[0m                       \u001b[0mkeras\u001b[0m\u001b[0;34m.\u001b[0m\u001b[0mcallbacks\u001b[0m\u001b[0;34m.\u001b[0m\u001b[0mEarlyStopping\u001b[0m\u001b[0;34m(\u001b[0m\u001b[0mpatience\u001b[0m\u001b[0;34m=\u001b[0m\u001b[0;36m7\u001b[0m\u001b[0;34m,\u001b[0m \u001b[0mverbose\u001b[0m\u001b[0;34m=\u001b[0m\u001b[0;36m1\u001b[0m\u001b[0;34m,\u001b[0m \u001b[0mrestore_best_weights\u001b[0m\u001b[0;34m=\u001b[0m\u001b[0;32mTrue\u001b[0m\u001b[0;34m)\u001b[0m\u001b[0;34m,\u001b[0m\u001b[0;34m\u001b[0m\u001b[0;34m\u001b[0m\u001b[0m\n\u001b[0;32m----> 6\u001b[0;31m                       keras.callbacks.ReduceLROnPlateau(factor=.5, patience=3, verbose=1)])\n\u001b[0m\u001b[1;32m      7\u001b[0m \u001b[0mmodel\u001b[0m\u001b[0;34m.\u001b[0m\u001b[0msave\u001b[0m\u001b[0;34m(\u001b[0m\u001b[0;34m\"/content/drive/MyDrive/youtube_model/dl_1215_5m_100_log_daily.h5\"\u001b[0m\u001b[0;34m)\u001b[0m\u001b[0;34m\u001b[0m\u001b[0;34m\u001b[0m\u001b[0m\n",
      "\u001b[0;32m/usr/local/lib/python3.7/dist-packages/keras/utils/traceback_utils.py\u001b[0m in \u001b[0;36merror_handler\u001b[0;34m(*args, **kwargs)\u001b[0m\n\u001b[1;32m     62\u001b[0m     \u001b[0mfiltered_tb\u001b[0m \u001b[0;34m=\u001b[0m \u001b[0;32mNone\u001b[0m\u001b[0;34m\u001b[0m\u001b[0;34m\u001b[0m\u001b[0m\n\u001b[1;32m     63\u001b[0m     \u001b[0;32mtry\u001b[0m\u001b[0;34m:\u001b[0m\u001b[0;34m\u001b[0m\u001b[0;34m\u001b[0m\u001b[0m\n\u001b[0;32m---> 64\u001b[0;31m       \u001b[0;32mreturn\u001b[0m \u001b[0mfn\u001b[0m\u001b[0;34m(\u001b[0m\u001b[0;34m*\u001b[0m\u001b[0margs\u001b[0m\u001b[0;34m,\u001b[0m \u001b[0;34m**\u001b[0m\u001b[0mkwargs\u001b[0m\u001b[0;34m)\u001b[0m\u001b[0;34m\u001b[0m\u001b[0;34m\u001b[0m\u001b[0m\n\u001b[0m\u001b[1;32m     65\u001b[0m     \u001b[0;32mexcept\u001b[0m \u001b[0mException\u001b[0m \u001b[0;32mas\u001b[0m \u001b[0me\u001b[0m\u001b[0;34m:\u001b[0m  \u001b[0;31m# pylint: disable=broad-except\u001b[0m\u001b[0;34m\u001b[0m\u001b[0;34m\u001b[0m\u001b[0m\n\u001b[1;32m     66\u001b[0m       \u001b[0mfiltered_tb\u001b[0m \u001b[0;34m=\u001b[0m \u001b[0m_process_traceback_frames\u001b[0m\u001b[0;34m(\u001b[0m\u001b[0me\u001b[0m\u001b[0;34m.\u001b[0m\u001b[0m__traceback__\u001b[0m\u001b[0;34m)\u001b[0m\u001b[0;34m\u001b[0m\u001b[0;34m\u001b[0m\u001b[0m\n",
      "\u001b[0;32m/usr/local/lib/python3.7/dist-packages/keras/engine/training.py\u001b[0m in \u001b[0;36mfit\u001b[0;34m(self, x, y, batch_size, epochs, verbose, callbacks, validation_split, validation_data, shuffle, class_weight, sample_weight, initial_epoch, steps_per_epoch, validation_steps, validation_batch_size, validation_freq, max_queue_size, workers, use_multiprocessing)\u001b[0m\n\u001b[1;32m   1214\u001b[0m                 _r=1):\n\u001b[1;32m   1215\u001b[0m               \u001b[0mcallbacks\u001b[0m\u001b[0;34m.\u001b[0m\u001b[0mon_train_batch_begin\u001b[0m\u001b[0;34m(\u001b[0m\u001b[0mstep\u001b[0m\u001b[0;34m)\u001b[0m\u001b[0;34m\u001b[0m\u001b[0;34m\u001b[0m\u001b[0m\n\u001b[0;32m-> 1216\u001b[0;31m               \u001b[0mtmp_logs\u001b[0m \u001b[0;34m=\u001b[0m \u001b[0mself\u001b[0m\u001b[0;34m.\u001b[0m\u001b[0mtrain_function\u001b[0m\u001b[0;34m(\u001b[0m\u001b[0miterator\u001b[0m\u001b[0;34m)\u001b[0m\u001b[0;34m\u001b[0m\u001b[0;34m\u001b[0m\u001b[0m\n\u001b[0m\u001b[1;32m   1217\u001b[0m               \u001b[0;32mif\u001b[0m \u001b[0mdata_handler\u001b[0m\u001b[0;34m.\u001b[0m\u001b[0mshould_sync\u001b[0m\u001b[0;34m:\u001b[0m\u001b[0;34m\u001b[0m\u001b[0;34m\u001b[0m\u001b[0m\n\u001b[1;32m   1218\u001b[0m                 \u001b[0mcontext\u001b[0m\u001b[0;34m.\u001b[0m\u001b[0masync_wait\u001b[0m\u001b[0;34m(\u001b[0m\u001b[0;34m)\u001b[0m\u001b[0;34m\u001b[0m\u001b[0;34m\u001b[0m\u001b[0m\n",
      "\u001b[0;32m/usr/local/lib/python3.7/dist-packages/tensorflow/python/util/traceback_utils.py\u001b[0m in \u001b[0;36merror_handler\u001b[0;34m(*args, **kwargs)\u001b[0m\n\u001b[1;32m    148\u001b[0m     \u001b[0mfiltered_tb\u001b[0m \u001b[0;34m=\u001b[0m \u001b[0;32mNone\u001b[0m\u001b[0;34m\u001b[0m\u001b[0;34m\u001b[0m\u001b[0m\n\u001b[1;32m    149\u001b[0m     \u001b[0;32mtry\u001b[0m\u001b[0;34m:\u001b[0m\u001b[0;34m\u001b[0m\u001b[0;34m\u001b[0m\u001b[0m\n\u001b[0;32m--> 150\u001b[0;31m       \u001b[0;32mreturn\u001b[0m \u001b[0mfn\u001b[0m\u001b[0;34m(\u001b[0m\u001b[0;34m*\u001b[0m\u001b[0margs\u001b[0m\u001b[0;34m,\u001b[0m \u001b[0;34m**\u001b[0m\u001b[0mkwargs\u001b[0m\u001b[0;34m)\u001b[0m\u001b[0;34m\u001b[0m\u001b[0;34m\u001b[0m\u001b[0m\n\u001b[0m\u001b[1;32m    151\u001b[0m     \u001b[0;32mexcept\u001b[0m \u001b[0mException\u001b[0m \u001b[0;32mas\u001b[0m \u001b[0me\u001b[0m\u001b[0;34m:\u001b[0m\u001b[0;34m\u001b[0m\u001b[0;34m\u001b[0m\u001b[0m\n\u001b[1;32m    152\u001b[0m       \u001b[0mfiltered_tb\u001b[0m \u001b[0;34m=\u001b[0m \u001b[0m_process_traceback_frames\u001b[0m\u001b[0;34m(\u001b[0m\u001b[0me\u001b[0m\u001b[0;34m.\u001b[0m\u001b[0m__traceback__\u001b[0m\u001b[0;34m)\u001b[0m\u001b[0;34m\u001b[0m\u001b[0;34m\u001b[0m\u001b[0m\n",
      "\u001b[0;32m/usr/local/lib/python3.7/dist-packages/tensorflow/python/eager/def_function.py\u001b[0m in \u001b[0;36m__call__\u001b[0;34m(self, *args, **kwds)\u001b[0m\n\u001b[1;32m    908\u001b[0m \u001b[0;34m\u001b[0m\u001b[0m\n\u001b[1;32m    909\u001b[0m       \u001b[0;32mwith\u001b[0m \u001b[0mOptionalXlaContext\u001b[0m\u001b[0;34m(\u001b[0m\u001b[0mself\u001b[0m\u001b[0;34m.\u001b[0m\u001b[0m_jit_compile\u001b[0m\u001b[0;34m)\u001b[0m\u001b[0;34m:\u001b[0m\u001b[0;34m\u001b[0m\u001b[0;34m\u001b[0m\u001b[0m\n\u001b[0;32m--> 910\u001b[0;31m         \u001b[0mresult\u001b[0m \u001b[0;34m=\u001b[0m \u001b[0mself\u001b[0m\u001b[0;34m.\u001b[0m\u001b[0m_call\u001b[0m\u001b[0;34m(\u001b[0m\u001b[0;34m*\u001b[0m\u001b[0margs\u001b[0m\u001b[0;34m,\u001b[0m \u001b[0;34m**\u001b[0m\u001b[0mkwds\u001b[0m\u001b[0;34m)\u001b[0m\u001b[0;34m\u001b[0m\u001b[0;34m\u001b[0m\u001b[0m\n\u001b[0m\u001b[1;32m    911\u001b[0m \u001b[0;34m\u001b[0m\u001b[0m\n\u001b[1;32m    912\u001b[0m       \u001b[0mnew_tracing_count\u001b[0m \u001b[0;34m=\u001b[0m \u001b[0mself\u001b[0m\u001b[0;34m.\u001b[0m\u001b[0mexperimental_get_tracing_count\u001b[0m\u001b[0;34m(\u001b[0m\u001b[0;34m)\u001b[0m\u001b[0;34m\u001b[0m\u001b[0;34m\u001b[0m\u001b[0m\n",
      "\u001b[0;32m/usr/local/lib/python3.7/dist-packages/tensorflow/python/eager/def_function.py\u001b[0m in \u001b[0;36m_call\u001b[0;34m(self, *args, **kwds)\u001b[0m\n\u001b[1;32m    940\u001b[0m       \u001b[0;31m# In this case we have created variables on the first call, so we run the\u001b[0m\u001b[0;34m\u001b[0m\u001b[0;34m\u001b[0m\u001b[0;34m\u001b[0m\u001b[0m\n\u001b[1;32m    941\u001b[0m       \u001b[0;31m# defunned version which is guaranteed to never create variables.\u001b[0m\u001b[0;34m\u001b[0m\u001b[0;34m\u001b[0m\u001b[0;34m\u001b[0m\u001b[0m\n\u001b[0;32m--> 942\u001b[0;31m       \u001b[0;32mreturn\u001b[0m \u001b[0mself\u001b[0m\u001b[0;34m.\u001b[0m\u001b[0m_stateless_fn\u001b[0m\u001b[0;34m(\u001b[0m\u001b[0;34m*\u001b[0m\u001b[0margs\u001b[0m\u001b[0;34m,\u001b[0m \u001b[0;34m**\u001b[0m\u001b[0mkwds\u001b[0m\u001b[0;34m)\u001b[0m  \u001b[0;31m# pylint: disable=not-callable\u001b[0m\u001b[0;34m\u001b[0m\u001b[0;34m\u001b[0m\u001b[0m\n\u001b[0m\u001b[1;32m    943\u001b[0m     \u001b[0;32melif\u001b[0m \u001b[0mself\u001b[0m\u001b[0;34m.\u001b[0m\u001b[0m_stateful_fn\u001b[0m \u001b[0;32mis\u001b[0m \u001b[0;32mnot\u001b[0m \u001b[0;32mNone\u001b[0m\u001b[0;34m:\u001b[0m\u001b[0;34m\u001b[0m\u001b[0;34m\u001b[0m\u001b[0m\n\u001b[1;32m    944\u001b[0m       \u001b[0;31m# Release the lock early so that multiple threads can perform the call\u001b[0m\u001b[0;34m\u001b[0m\u001b[0;34m\u001b[0m\u001b[0;34m\u001b[0m\u001b[0m\n",
      "\u001b[0;32m/usr/local/lib/python3.7/dist-packages/tensorflow/python/eager/function.py\u001b[0m in \u001b[0;36m__call__\u001b[0;34m(self, *args, **kwargs)\u001b[0m\n\u001b[1;32m   3129\u001b[0m        filtered_flat_args) = self._maybe_define_function(args, kwargs)\n\u001b[1;32m   3130\u001b[0m     return graph_function._call_flat(\n\u001b[0;32m-> 3131\u001b[0;31m         filtered_flat_args, captured_inputs=graph_function.captured_inputs)  # pylint: disable=protected-access\n\u001b[0m\u001b[1;32m   3132\u001b[0m \u001b[0;34m\u001b[0m\u001b[0m\n\u001b[1;32m   3133\u001b[0m   \u001b[0;34m@\u001b[0m\u001b[0mproperty\u001b[0m\u001b[0;34m\u001b[0m\u001b[0;34m\u001b[0m\u001b[0m\n",
      "\u001b[0;32m/usr/local/lib/python3.7/dist-packages/tensorflow/python/eager/function.py\u001b[0m in \u001b[0;36m_call_flat\u001b[0;34m(self, args, captured_inputs, cancellation_manager)\u001b[0m\n\u001b[1;32m   1958\u001b[0m       \u001b[0;31m# No tape is watching; skip to running the function.\u001b[0m\u001b[0;34m\u001b[0m\u001b[0;34m\u001b[0m\u001b[0;34m\u001b[0m\u001b[0m\n\u001b[1;32m   1959\u001b[0m       return self._build_call_outputs(self._inference_function.call(\n\u001b[0;32m-> 1960\u001b[0;31m           ctx, args, cancellation_manager=cancellation_manager))\n\u001b[0m\u001b[1;32m   1961\u001b[0m     forward_backward = self._select_forward_and_backward_functions(\n\u001b[1;32m   1962\u001b[0m         \u001b[0margs\u001b[0m\u001b[0;34m,\u001b[0m\u001b[0;34m\u001b[0m\u001b[0;34m\u001b[0m\u001b[0m\n",
      "\u001b[0;32m/usr/local/lib/python3.7/dist-packages/tensorflow/python/eager/function.py\u001b[0m in \u001b[0;36mcall\u001b[0;34m(self, ctx, args, cancellation_manager)\u001b[0m\n\u001b[1;32m    601\u001b[0m               \u001b[0minputs\u001b[0m\u001b[0;34m=\u001b[0m\u001b[0margs\u001b[0m\u001b[0;34m,\u001b[0m\u001b[0;34m\u001b[0m\u001b[0;34m\u001b[0m\u001b[0m\n\u001b[1;32m    602\u001b[0m               \u001b[0mattrs\u001b[0m\u001b[0;34m=\u001b[0m\u001b[0mattrs\u001b[0m\u001b[0;34m,\u001b[0m\u001b[0;34m\u001b[0m\u001b[0;34m\u001b[0m\u001b[0m\n\u001b[0;32m--> 603\u001b[0;31m               ctx=ctx)\n\u001b[0m\u001b[1;32m    604\u001b[0m         \u001b[0;32melse\u001b[0m\u001b[0;34m:\u001b[0m\u001b[0;34m\u001b[0m\u001b[0;34m\u001b[0m\u001b[0m\n\u001b[1;32m    605\u001b[0m           outputs = execute.execute_with_cancellation(\n",
      "\u001b[0;32m/usr/local/lib/python3.7/dist-packages/tensorflow/python/eager/execute.py\u001b[0m in \u001b[0;36mquick_execute\u001b[0;34m(op_name, num_outputs, inputs, attrs, ctx, name)\u001b[0m\n\u001b[1;32m     57\u001b[0m     \u001b[0mctx\u001b[0m\u001b[0;34m.\u001b[0m\u001b[0mensure_initialized\u001b[0m\u001b[0;34m(\u001b[0m\u001b[0;34m)\u001b[0m\u001b[0;34m\u001b[0m\u001b[0;34m\u001b[0m\u001b[0m\n\u001b[1;32m     58\u001b[0m     tensors = pywrap_tfe.TFE_Py_Execute(ctx._handle, device_name, op_name,\n\u001b[0;32m---> 59\u001b[0;31m                                         inputs, attrs, num_outputs)\n\u001b[0m\u001b[1;32m     60\u001b[0m   \u001b[0;32mexcept\u001b[0m \u001b[0mcore\u001b[0m\u001b[0;34m.\u001b[0m\u001b[0m_NotOkStatusException\u001b[0m \u001b[0;32mas\u001b[0m \u001b[0me\u001b[0m\u001b[0;34m:\u001b[0m\u001b[0;34m\u001b[0m\u001b[0;34m\u001b[0m\u001b[0m\n\u001b[1;32m     61\u001b[0m     \u001b[0;32mif\u001b[0m \u001b[0mname\u001b[0m \u001b[0;32mis\u001b[0m \u001b[0;32mnot\u001b[0m \u001b[0;32mNone\u001b[0m\u001b[0;34m:\u001b[0m\u001b[0;34m\u001b[0m\u001b[0;34m\u001b[0m\u001b[0m\n",
      "\u001b[0;31mKeyboardInterrupt\u001b[0m: "
     ]
    }
   ],
   "source": [
    "#2-21\n",
    "model.fit(x = [images, X_fea_train, train_title, train_tag, train_des], y = np.array(df_train[label]), epochs = 20, verbose = 1, batch_size =32,\n",
    "          validation_data = ([val_images, X_fea_val, val_title, val_tag, val_des], df_val[label]), \n",
    "          callbacks=[keras.callbacks.CSVLogger('training.log', separator=',', append=False),\n",
    "                      keras.callbacks.EarlyStopping(patience=7, verbose=1, restore_best_weights=True),\n",
    "                      keras.callbacks.ReduceLROnPlateau(factor=.5, patience=3, verbose=1)])\n",
    "model.save(\"/content/drive/MyDrive/youtube_model/dl_1215_5m_100_log_daily.h5\")"
   ]
  },
  {
   "cell_type": "code",
   "execution_count": 34,
   "metadata": {
    "colab": {
     "base_uri": "https://localhost:8080/"
    },
    "executionInfo": {
     "elapsed": 16706313,
     "status": "ok",
     "timestamp": 1639687622322,
     "user": {
      "displayName": "Chien Yuan Chang",
      "photoUrl": "https://lh3.googleusercontent.com/a-/AOh14Gh-ZoTW8dc2VTtzRDYgaNQ1fpjQNTp7RWhLtJPm=s64",
      "userId": "11770959240224415572"
     },
     "user_tz": 480
    },
    "id": "Qvj8rapvwCRt",
    "outputId": "7e6e703d-ef33-4137-f89d-8995fbf61935"
   },
   "outputs": [
    {
     "name": "stdout",
     "output_type": "stream",
     "text": [
      "Epoch 1/60\n",
      "197/197 [==============================] - 367s 2s/step - loss: 0.1921 - mean_absolute_error: 0.3454 - val_loss: 1.5924 - val_mean_absolute_error: 0.9807 - lr: 1.0000e-04\n",
      "Epoch 2/60\n",
      "197/197 [==============================] - 360s 2s/step - loss: 0.1520 - mean_absolute_error: 0.3041 - val_loss: 1.5185 - val_mean_absolute_error: 0.9525 - lr: 1.0000e-04\n",
      "Epoch 3/60\n",
      "197/197 [==============================] - 360s 2s/step - loss: 0.1394 - mean_absolute_error: 0.2933 - val_loss: 1.5577 - val_mean_absolute_error: 0.9661 - lr: 1.0000e-04\n",
      "Epoch 4/60\n",
      "197/197 [==============================] - 359s 2s/step - loss: 0.1242 - mean_absolute_error: 0.2752 - val_loss: 1.5047 - val_mean_absolute_error: 0.9505 - lr: 1.0000e-04\n",
      "Epoch 5/60\n",
      "197/197 [==============================] - 360s 2s/step - loss: 0.1188 - mean_absolute_error: 0.2681 - val_loss: 1.4846 - val_mean_absolute_error: 0.9441 - lr: 1.0000e-04\n",
      "Epoch 6/60\n",
      "197/197 [==============================] - 358s 2s/step - loss: 0.1160 - mean_absolute_error: 0.2653 - val_loss: 1.4404 - val_mean_absolute_error: 0.9135 - lr: 1.0000e-04\n",
      "Epoch 7/60\n",
      "197/197 [==============================] - 357s 2s/step - loss: 0.1104 - mean_absolute_error: 0.2574 - val_loss: 1.4204 - val_mean_absolute_error: 0.9138 - lr: 1.0000e-04\n",
      "Epoch 8/60\n",
      "197/197 [==============================] - 357s 2s/step - loss: 0.0999 - mean_absolute_error: 0.2458 - val_loss: 1.4076 - val_mean_absolute_error: 0.9023 - lr: 1.0000e-04\n",
      "Epoch 9/60\n",
      "197/197 [==============================] - 357s 2s/step - loss: 0.0930 - mean_absolute_error: 0.2357 - val_loss: 1.4249 - val_mean_absolute_error: 0.9236 - lr: 1.0000e-04\n",
      "Epoch 10/60\n",
      "197/197 [==============================] - 361s 2s/step - loss: 0.0934 - mean_absolute_error: 0.2375 - val_loss: 1.5511 - val_mean_absolute_error: 1.0004 - lr: 1.0000e-04\n",
      "Epoch 11/60\n",
      "197/197 [==============================] - 360s 2s/step - loss: 0.0918 - mean_absolute_error: 0.2363 - val_loss: 1.3889 - val_mean_absolute_error: 0.9116 - lr: 1.0000e-04\n",
      "Epoch 12/60\n",
      "197/197 [==============================] - 361s 2s/step - loss: 0.0860 - mean_absolute_error: 0.2275 - val_loss: 1.3390 - val_mean_absolute_error: 0.8684 - lr: 1.0000e-04\n",
      "Epoch 13/60\n",
      "197/197 [==============================] - 364s 2s/step - loss: 0.0765 - mean_absolute_error: 0.2145 - val_loss: 1.3199 - val_mean_absolute_error: 0.8784 - lr: 1.0000e-04\n",
      "Epoch 14/60\n",
      "197/197 [==============================] - 367s 2s/step - loss: 0.0737 - mean_absolute_error: 0.2119 - val_loss: 1.3464 - val_mean_absolute_error: 0.8971 - lr: 1.0000e-04\n",
      "Epoch 15/60\n",
      "197/197 [==============================] - 366s 2s/step - loss: 0.0758 - mean_absolute_error: 0.2124 - val_loss: 1.3214 - val_mean_absolute_error: 0.8805 - lr: 1.0000e-04\n",
      "Epoch 16/60\n",
      "197/197 [==============================] - 362s 2s/step - loss: 0.0689 - mean_absolute_error: 0.2010 - val_loss: 1.2846 - val_mean_absolute_error: 0.8674 - lr: 1.0000e-04\n",
      "Epoch 17/60\n",
      "197/197 [==============================] - 363s 2s/step - loss: 0.0653 - mean_absolute_error: 0.1974 - val_loss: 1.2895 - val_mean_absolute_error: 0.8729 - lr: 1.0000e-04\n",
      "Epoch 18/60\n",
      "197/197 [==============================] - 362s 2s/step - loss: 0.0619 - mean_absolute_error: 0.1931 - val_loss: 1.2478 - val_mean_absolute_error: 0.8510 - lr: 1.0000e-04\n",
      "Epoch 19/60\n",
      "197/197 [==============================] - 364s 2s/step - loss: 0.0591 - mean_absolute_error: 0.1891 - val_loss: 1.2814 - val_mean_absolute_error: 0.8725 - lr: 1.0000e-04\n",
      "Epoch 20/60\n",
      "197/197 [==============================] - 363s 2s/step - loss: 0.0603 - mean_absolute_error: 0.1891 - val_loss: 1.2303 - val_mean_absolute_error: 0.8414 - lr: 1.0000e-04\n",
      "Epoch 21/60\n",
      "197/197 [==============================] - 365s 2s/step - loss: 0.0599 - mean_absolute_error: 0.1905 - val_loss: 1.2076 - val_mean_absolute_error: 0.8376 - lr: 1.0000e-04\n",
      "Epoch 22/60\n",
      "197/197 [==============================] - 361s 2s/step - loss: 0.0570 - mean_absolute_error: 0.1844 - val_loss: 1.2706 - val_mean_absolute_error: 0.8780 - lr: 1.0000e-04\n",
      "Epoch 23/60\n",
      "197/197 [==============================] - 362s 2s/step - loss: 0.0535 - mean_absolute_error: 0.1774 - val_loss: 1.2359 - val_mean_absolute_error: 0.8546 - lr: 1.0000e-04\n",
      "Epoch 24/60\n",
      "197/197 [==============================] - 364s 2s/step - loss: 0.0487 - mean_absolute_error: 0.1696 - val_loss: 1.1833 - val_mean_absolute_error: 0.8203 - lr: 1.0000e-04\n",
      "Epoch 25/60\n",
      "197/197 [==============================] - 365s 2s/step - loss: 0.0486 - mean_absolute_error: 0.1692 - val_loss: 1.2139 - val_mean_absolute_error: 0.8445 - lr: 1.0000e-04\n",
      "Epoch 26/60\n",
      "197/197 [==============================] - 365s 2s/step - loss: 0.0476 - mean_absolute_error: 0.1694 - val_loss: 1.1432 - val_mean_absolute_error: 0.8115 - lr: 1.0000e-04\n",
      "Epoch 27/60\n",
      "197/197 [==============================] - 363s 2s/step - loss: 0.0415 - mean_absolute_error: 0.1561 - val_loss: 1.1779 - val_mean_absolute_error: 0.8333 - lr: 1.0000e-04\n",
      "Epoch 28/60\n",
      "197/197 [==============================] - 364s 2s/step - loss: 0.0413 - mean_absolute_error: 0.1553 - val_loss: 1.1398 - val_mean_absolute_error: 0.8083 - lr: 1.0000e-04\n",
      "Epoch 29/60\n",
      "197/197 [==============================] - 366s 2s/step - loss: 0.0428 - mean_absolute_error: 0.1598 - val_loss: 1.1630 - val_mean_absolute_error: 0.8267 - lr: 1.0000e-04\n",
      "Epoch 30/60\n",
      "197/197 [==============================] - 364s 2s/step - loss: 0.0436 - mean_absolute_error: 0.1601 - val_loss: 1.1909 - val_mean_absolute_error: 0.8369 - lr: 1.0000e-04\n",
      "Epoch 31/60\n",
      "197/197 [==============================] - 363s 2s/step - loss: 0.0407 - mean_absolute_error: 0.1546 - val_loss: 1.1295 - val_mean_absolute_error: 0.8059 - lr: 1.0000e-04\n",
      "Epoch 32/60\n",
      "197/197 [==============================] - 364s 2s/step - loss: 0.0377 - mean_absolute_error: 0.1483 - val_loss: 1.0954 - val_mean_absolute_error: 0.7898 - lr: 1.0000e-04\n",
      "Epoch 33/60\n",
      "197/197 [==============================] - 364s 2s/step - loss: 0.0360 - mean_absolute_error: 0.1450 - val_loss: 1.1036 - val_mean_absolute_error: 0.7969 - lr: 1.0000e-04\n",
      "Epoch 34/60\n",
      "197/197 [==============================] - 364s 2s/step - loss: 0.0333 - mean_absolute_error: 0.1383 - val_loss: 1.0995 - val_mean_absolute_error: 0.7969 - lr: 1.0000e-04\n",
      "Epoch 35/60\n",
      "197/197 [==============================] - ETA: 0s - loss: 0.0309 - mean_absolute_error: 0.1345\n",
      "Epoch 00035: ReduceLROnPlateau reducing learning rate to 4.999999873689376e-05.\n",
      "197/197 [==============================] - 364s 2s/step - loss: 0.0309 - mean_absolute_error: 0.1345 - val_loss: 1.1005 - val_mean_absolute_error: 0.7999 - lr: 1.0000e-04\n",
      "Epoch 36/60\n",
      "197/197 [==============================] - 367s 2s/step - loss: 0.0278 - mean_absolute_error: 0.1257 - val_loss: 1.0935 - val_mean_absolute_error: 0.7936 - lr: 5.0000e-05\n",
      "Epoch 37/60\n",
      "197/197 [==============================] - 364s 2s/step - loss: 0.0194 - mean_absolute_error: 0.1052 - val_loss: 1.0919 - val_mean_absolute_error: 0.7945 - lr: 5.0000e-05\n",
      "Epoch 38/60\n",
      "197/197 [==============================] - 362s 2s/step - loss: 0.0181 - mean_absolute_error: 0.1007 - val_loss: 1.0810 - val_mean_absolute_error: 0.7904 - lr: 5.0000e-05\n",
      "Epoch 39/60\n",
      "197/197 [==============================] - 361s 2s/step - loss: 0.0169 - mean_absolute_error: 0.0975 - val_loss: 1.0754 - val_mean_absolute_error: 0.7867 - lr: 5.0000e-05\n",
      "Epoch 40/60\n",
      "197/197 [==============================] - 364s 2s/step - loss: 0.0170 - mean_absolute_error: 0.0977 - val_loss: 1.0909 - val_mean_absolute_error: 0.7970 - lr: 5.0000e-05\n",
      "Epoch 41/60\n",
      "197/197 [==============================] - 363s 2s/step - loss: 0.0165 - mean_absolute_error: 0.0954 - val_loss: 1.0793 - val_mean_absolute_error: 0.7853 - lr: 5.0000e-05\n",
      "Epoch 42/60\n",
      "197/197 [==============================] - ETA: 0s - loss: 0.0164 - mean_absolute_error: 0.0957\n",
      "Epoch 00042: ReduceLROnPlateau reducing learning rate to 2.499999936844688e-05.\n",
      "197/197 [==============================] - 365s 2s/step - loss: 0.0164 - mean_absolute_error: 0.0957 - val_loss: 1.0856 - val_mean_absolute_error: 0.7903 - lr: 5.0000e-05\n",
      "Epoch 43/60\n",
      "197/197 [==============================] - 365s 2s/step - loss: 0.0145 - mean_absolute_error: 0.0896 - val_loss: 1.0849 - val_mean_absolute_error: 0.7923 - lr: 2.5000e-05\n",
      "Epoch 44/60\n",
      "197/197 [==============================] - 366s 2s/step - loss: 0.0129 - mean_absolute_error: 0.0845 - val_loss: 1.0882 - val_mean_absolute_error: 0.7931 - lr: 2.5000e-05\n",
      "Epoch 45/60\n",
      "197/197 [==============================] - ETA: 0s - loss: 0.0121 - mean_absolute_error: 0.0815\n",
      "Epoch 00045: ReduceLROnPlateau reducing learning rate to 1.249999968422344e-05.\n",
      "197/197 [==============================] - 367s 2s/step - loss: 0.0121 - mean_absolute_error: 0.0815 - val_loss: 1.0870 - val_mean_absolute_error: 0.7921 - lr: 2.5000e-05\n",
      "Epoch 46/60\n",
      "197/197 [==============================] - ETA: 0s - loss: 0.0115 - mean_absolute_error: 0.0788Restoring model weights from the end of the best epoch: 39.\n",
      "197/197 [==============================] - 367s 2s/step - loss: 0.0115 - mean_absolute_error: 0.0788 - val_loss: 1.0865 - val_mean_absolute_error: 0.7917 - lr: 1.2500e-05\n",
      "Epoch 00046: early stopping\n"
     ]
    },
    {
     "name": "stderr",
     "output_type": "stream",
     "text": [
      "/usr/local/lib/python3.7/dist-packages/keras/engine/functional.py:1410: CustomMaskWarning: Custom mask layers require a config and must override get_config. When loading, the custom mask layer must be passed to the custom_objects argument.\n",
      "  layer_config = serialize_layer_fn(layer)\n"
     ]
    }
   ],
   "source": [
    "#22-81\n",
    "model.fit(x = [images, X_fea_train, train_title, train_tag, train_des], y = df_train[label] , epochs = 60, verbose = 1, batch_size =32,\n",
    "          validation_data = ([val_images, X_fea_val, val_title, val_tag, val_des], df_val[label]), \n",
    "          callbacks=[keras.callbacks.CSVLogger('training.log', separator=',', append=False),\n",
    "                      keras.callbacks.EarlyStopping(patience=7, verbose=1, restore_best_weights=True),\n",
    "                      keras.callbacks.ReduceLROnPlateau(factor=.5, patience=3, verbose=1)])\n",
    "model.save(\"/content/drive/MyDrive/youtube_model/dl_1215_5m_100_log_daily.h5\")"
   ]
  },
  {
   "cell_type": "code",
   "execution_count": 42,
   "metadata": {
    "colab": {
     "base_uri": "https://localhost:8080/",
     "height": 382
    },
    "executionInfo": {
     "elapsed": 388,
     "status": "ok",
     "timestamp": 1639606744550,
     "user": {
      "displayName": "Chien Yuan Chang",
      "photoUrl": "https://lh3.googleusercontent.com/a-/AOh14Gh-ZoTW8dc2VTtzRDYgaNQ1fpjQNTp7RWhLtJPm=s64",
      "userId": "11770959240224415572"
     },
     "user_tz": 480
    },
    "id": "CqxfLIF1IjiX",
    "outputId": "aa19cdf5-1a97-4ce6-f06e-8b32a0c4db75"
   },
   "outputs": [
    {
     "data": {
      "text/plain": [
       "(array([6.208e+03, 4.800e+01, 1.700e+01, 5.000e+00, 1.000e+00, 0.000e+00,\n",
       "        0.000e+00, 0.000e+00, 2.000e+00, 1.000e+00]),\n",
       " array([       0. ,  2233543.1,  4467086.2,  6700629.3,  8934172.4,\n",
       "        11167715.5, 13401258.6, 15634801.7, 17868344.8, 20101887.9,\n",
       "        22335431. ]),\n",
       " <a list of 10 Patch objects>)"
      ]
     },
     "execution_count": 42,
     "metadata": {},
     "output_type": "execute_result"
    },
    {
     "data": {
      "image/png": "[encoded data removed]",
      "text/plain": [
       "<Figure size 432x288 with 1 Axes>"
      ]
     },
     "metadata": {
      "needs_background": "light"
     },
     "output_type": "display_data"
    }
   ],
   "source": [
    "#daily_view\n",
    "plt.hist(np.array(df_train['daily_view']))"
   ]
  },
  {
   "cell_type": "code",
   "execution_count": 72,
   "metadata": {
    "colab": {
     "base_uri": "https://localhost:8080/",
     "height": 369
    },
    "executionInfo": {
     "elapsed": 434,
     "status": "ok",
     "timestamp": 1639629876532,
     "user": {
      "displayName": "Chien Yuan Chang",
      "photoUrl": "https://lh3.googleusercontent.com/a-/AOh14Gh-ZoTW8dc2VTtzRDYgaNQ1fpjQNTp7RWhLtJPm=s64",
      "userId": "11770959240224415572"
     },
     "user_tz": 480
    },
    "id": "61W3tXtAh_Kj",
    "outputId": "ec5b309c-13f9-4728-9528-575301279656"
   },
   "outputs": [
    {
     "data": {
      "text/plain": [
       "(array([ 104.,  247.,  740.,  317.,  141.,  631., 2170., 1596.,  305.,\n",
       "          31.]),\n",
       " array([0.        , 0.73489943, 1.46979887, 2.2046983 , 2.93959773,\n",
       "        3.67449717, 4.4093966 , 5.14429604, 5.87919547, 6.6140949 ,\n",
       "        7.34899434]),\n",
       " <a list of 10 Patch objects>)"
      ]
     },
     "execution_count": 72,
     "metadata": {},
     "output_type": "execute_result"
    },
    {
     "data": {
      "image/png": "[encoded data removed]",
      "text/plain": [
       "<Figure size 432x288 with 1 Axes>"
      ]
     },
     "metadata": {
      "needs_background": "light"
     },
     "output_type": "display_data"
    }
   ],
   "source": [
    "#daily_view\n",
    "plt.hist(np.log10(np.array(df_train['daily_view'])))"
   ]
  },
  {
   "cell_type": "code",
   "execution_count": 36,
   "metadata": {
    "colab": {
     "base_uri": "https://localhost:8080/"
    },
    "executionInfo": {
     "elapsed": 20703,
     "status": "ok",
     "timestamp": 1639687733659,
     "user": {
      "displayName": "Chien Yuan Chang",
      "photoUrl": "https://lh3.googleusercontent.com/a-/AOh14Gh-ZoTW8dc2VTtzRDYgaNQ1fpjQNTp7RWhLtJPm=s64",
      "userId": "11770959240224415572"
     },
     "user_tz": 480
    },
    "id": "9B7YVRn1HIpU",
    "outputId": "f7d99b8b-9147-4182-960a-6bc1d3c96459"
   },
   "outputs": [
    {
     "name": "stdout",
     "output_type": "stream",
     "text": [
      "66/66 [==============================] - 12s 178ms/step - loss: 1.0754 - mean_absolute_error: 0.7867\n"
     ]
    },
    {
     "data": {
      "text/plain": [
       "[1.0754307508468628, 0.786687433719635]"
      ]
     },
     "execution_count": 36,
     "metadata": {},
     "output_type": "execute_result"
    }
   ],
   "source": [
    "model.evaluate(x=[val_images, X_fea_val, val_title, val_tag, val_des], y=df_val[label])"
   ]
  },
  {
   "cell_type": "code",
   "execution_count": 38,
   "metadata": {
    "executionInfo": {
     "elapsed": 449,
     "status": "ok",
     "timestamp": 1639687876981,
     "user": {
      "displayName": "Chien Yuan Chang",
      "photoUrl": "https://lh3.googleusercontent.com/a-/AOh14Gh-ZoTW8dc2VTtzRDYgaNQ1fpjQNTp7RWhLtJPm=s64",
      "userId": "11770959240224415572"
     },
     "user_tz": 480
    },
    "id": "S4HXPBxhenQr"
   },
   "outputs": [],
   "source": [
    "X_fea_test = scaler.transform(df_test[features])\n",
    "test_title = title_tokenizer.texts_to_sequences(df_test.title_clean)\n",
    "test_title = sequence.pad_sequences(test_title, maxlen=title_maxlen)\n",
    "test_tag = tag_tokenizer.texts_to_sequences(df_test.tags_clean)\n",
    "test_tag = sequence.pad_sequences(test_tag, maxlen=tag_maxlen)\n",
    "test_des = des_tokenizer.texts_to_sequences(df_test.description_clean) \n",
    "test_des = sequence.pad_sequences(test_des, maxlen=des_maxlen)"
   ]
  },
  {
   "cell_type": "code",
   "execution_count": 39,
   "metadata": {
    "colab": {
     "base_uri": "https://localhost:8080/"
    },
    "executionInfo": {
     "elapsed": 11628,
     "status": "ok",
     "timestamp": 1639687893949,
     "user": {
      "displayName": "Chien Yuan Chang",
      "photoUrl": "https://lh3.googleusercontent.com/a-/AOh14Gh-ZoTW8dc2VTtzRDYgaNQ1fpjQNTp7RWhLtJPm=s64",
      "userId": "11770959240224415572"
     },
     "user_tz": 480
    },
    "id": "jJAPAP_pHUKb",
    "outputId": "efe74c10-6a89-405a-a2a5-0a968d9c10df",
    "scrolled": true
   },
   "outputs": [
    {
     "name": "stdout",
     "output_type": "stream",
     "text": [
      "66/66 [==============================] - 12s 181ms/step - loss: 1.0808 - mean_absolute_error: 0.7796\n"
     ]
    },
    {
     "data": {
      "text/plain": [
       "[1.0808371305465698, 0.7796258330345154]"
      ]
     },
     "execution_count": 39,
     "metadata": {},
     "output_type": "execute_result"
    }
   ],
   "source": [
    "model.evaluate(x=[test_images, X_fea_test, test_title, test_tag, test_des], y=df_test[label])"
   ]
  },
  {
   "cell_type": "code",
   "execution_count": 40,
   "metadata": {
    "executionInfo": {
     "elapsed": 11595,
     "status": "ok",
     "timestamp": 1639688096435,
     "user": {
      "displayName": "Chien Yuan Chang",
      "photoUrl": "https://lh3.googleusercontent.com/a-/AOh14Gh-ZoTW8dc2VTtzRDYgaNQ1fpjQNTp7RWhLtJPm=s64",
      "userId": "11770959240224415572"
     },
     "user_tz": 480
    },
    "id": "fW3KlGZ8cDUG"
   },
   "outputs": [],
   "source": [
    "test_pred = model.predict(x=[test_images, X_fea_test, test_title, test_tag, test_des])"
   ]
  },
  {
   "cell_type": "code",
   "execution_count": 46,
   "metadata": {
    "colab": {
     "base_uri": "https://localhost:8080/",
     "height": 295
    },
    "executionInfo": {
     "elapsed": 791,
     "status": "ok",
     "timestamp": 1639688208611,
     "user": {
      "displayName": "Chien Yuan Chang",
      "photoUrl": "https://lh3.googleusercontent.com/a-/AOh14Gh-ZoTW8dc2VTtzRDYgaNQ1fpjQNTp7RWhLtJPm=s64",
      "userId": "11770959240224415572"
     },
     "user_tz": 480
    },
    "id": "05AjTSzHcNOM",
    "outputId": "3cb4035f-507c-48fe-aac6-f6355da32bcf"
   },
   "outputs": [
    {
     "data": {
      "image/png": "[encoded data removed]",
      "text/plain": [
       "<Figure size 432x288 with 1 Axes>"
      ]
     },
     "metadata": {
      "needs_background": "light"
     },
     "output_type": "display_data"
    }
   ],
   "source": [
    "fig = plt.figure()\n",
    "ax = fig.add_subplot(1, 1, 1)\n",
    "plt.hist(test_pred)\n",
    "plt.title('Histogram of Test Data Predictions')\n",
    "plt.xlabel('Predictions of Log10 of Daily Views')\n",
    "plt.ylabel('Number of Videos')\n",
    "ax.spines['bottom'].set_position('zero')\n",
    "ax.spines['left'].set_position('zero')\n",
    "ax.spines['top'].set_color('none')\n",
    "ax.spines['right'].set_color('none')\n",
    "plt.savefig(\"test_prediciton_hist.png\", dpi = 400, facecolor = \"w\", bbox_inches=\"tight\");"
   ]
  }
 ],
 "metadata": {
  "accelerator": "GPU",
  "colab": {
   "authorship_tag": "ABX9TyP+QVSipJ0FhzmnqnY4VN0Z",
   "collapsed_sections": [],
   "machine_shape": "hm",
   "mount_file_id": "1l6UNUSBGAdfllLwalbdLpPscsYcmIauo",
   "name": "deep_learning_models_5m_1215.ipynb",
   "provenance": [
    {
     "file_id": "1oNbcfokrG4hKKMmh9QSqaN-c1Q0xpMxx",
     "timestamp": 1639495226869
    },
    {
     "file_id": "1j8OH4ofOCeiiLKSbF1-1s_pZ8O0QqKlE",
     "timestamp": 1639241167566
    },
    {
     "file_id": "13ZA9Et_xGzAkphLhocUmx-0EUpqxVVuW",
     "timestamp": 1639169778478
    }
   ]
  },
  "kernelspec": {
   "display_name": "Python 3 (ipykernel)",
   "language": "python",
   "name": "python3"
  },
  "language_info": {
   "codemirror_mode": {
    "name": "ipython",
    "version": 3
   },
   "file_extension": ".py",
   "mimetype": "text/x-python",
   "name": "python",
   "nbconvert_exporter": "python",
   "pygments_lexer": "ipython3",
   "version": "3.8.12"
  }
 },
 "nbformat": 4,
 "nbformat_minor": 1
}
